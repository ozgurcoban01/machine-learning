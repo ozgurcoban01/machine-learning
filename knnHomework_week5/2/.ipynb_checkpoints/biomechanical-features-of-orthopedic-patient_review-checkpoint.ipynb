{
 "cells": [
  {
   "cell_type": "code",
   "execution_count": 1,
   "id": "9f2f7365",
   "metadata": {
    "_cell_guid": "b1076dfc-b9ad-4769-8c92-a6c4dae69d19",
    "_uuid": "8f2839f25d086af736a60e9eeb907d3b93b6e0e5",
    "execution": {
     "iopub.execute_input": "2022-08-29T11:38:12.708231Z",
     "iopub.status.busy": "2022-08-29T11:38:12.707487Z",
     "iopub.status.idle": "2022-08-29T11:38:12.731256Z",
     "shell.execute_reply": "2022-08-29T11:38:12.730261Z"
    },
    "papermill": {
     "duration": 0.039514,
     "end_time": "2022-08-29T11:38:12.734629",
     "exception": false,
     "start_time": "2022-08-29T11:38:12.695115",
     "status": "completed"
    },
    "tags": []
   },
   "outputs": [],
   "source": [
    "# This Python 3 environment comes with many helpful analytics libraries installed\n",
    "# It is defined by the kaggle/python Docker image: https://github.com/kaggle/docker-python\n",
    "# For example, here's several helpful packages to load\n",
    "\n",
    "import numpy as np # linear algebra\n",
    "import pandas as pd # data processing, CSV file I/O (e.g. pd.read_csv)\n",
    "import matplotlib.pyplot as plt\n",
    "# Input data files are available in the read-only \"../input/\" directory\n",
    "# For example, running this (by clicking run or pressing Shift+Enter) will list all files under the input directory\n",
    "\n",
    "import os\n",
    "for dirname, _, filenames in os.walk('/kaggle/input'):\n",
    "    for filename in filenames:\n",
    "        print(os.path.join(dirname, filename))\n",
    "\n",
    "# You can write up to 20GB to the current directory (/kaggle/working/) that gets preserved as output when you create a version using \"Save & Run All\" \n",
    "# You can also write temporary files to /kaggle/temp/, but they won't be saved outside of the current session"
   ]
  },
  {
   "cell_type": "code",
   "execution_count": 2,
   "id": "c5a8242b",
   "metadata": {
    "execution": {
     "iopub.execute_input": "2022-08-29T11:38:12.756447Z",
     "iopub.status.busy": "2022-08-29T11:38:12.755748Z",
     "iopub.status.idle": "2022-08-29T11:38:12.782530Z",
     "shell.execute_reply": "2022-08-29T11:38:12.781584Z"
    },
    "papermill": {
     "duration": 0.040151,
     "end_time": "2022-08-29T11:38:12.785335",
     "exception": false,
     "start_time": "2022-08-29T11:38:12.745184",
     "status": "completed"
    },
    "tags": []
   },
   "outputs": [],
   "source": [
    "#load data\n",
    "data1 = pd.read_csv(\"data/column_2C_weka.csv\")\n",
    "data2 = pd.read_csv(\"data/column_3C_weka.csv\")"
   ]
  },
  {
   "cell_type": "markdown",
   "id": "3901f6b4",
   "metadata": {
    "papermill": {
     "duration": 0.008983,
     "end_time": "2022-08-29T11:38:12.804599",
     "exception": false,
     "start_time": "2022-08-29T11:38:12.795616",
     "status": "completed"
    },
    "tags": []
   },
   "source": [
    "# ANALYSIS FOR DATA1"
   ]
  },
  {
   "cell_type": "code",
   "execution_count": 3,
   "id": "08c11159",
   "metadata": {
    "execution": {
     "iopub.execute_input": "2022-08-29T11:38:12.825208Z",
     "iopub.status.busy": "2022-08-29T11:38:12.824453Z",
     "iopub.status.idle": "2022-08-29T11:38:12.849431Z",
     "shell.execute_reply": "2022-08-29T11:38:12.848574Z"
    },
    "papermill": {
     "duration": 0.03826,
     "end_time": "2022-08-29T11:38:12.852087",
     "exception": false,
     "start_time": "2022-08-29T11:38:12.813827",
     "status": "completed"
    },
    "tags": []
   },
   "outputs": [
    {
     "name": "stdout",
     "output_type": "stream",
     "text": [
      "<class 'pandas.core.frame.DataFrame'>\n",
      "RangeIndex: 310 entries, 0 to 309\n",
      "Data columns (total 7 columns):\n",
      " #   Column                    Non-Null Count  Dtype  \n",
      "---  ------                    --------------  -----  \n",
      " 0   pelvic_incidence          310 non-null    float64\n",
      " 1   pelvic_tilt numeric       310 non-null    float64\n",
      " 2   lumbar_lordosis_angle     310 non-null    float64\n",
      " 3   sacral_slope              310 non-null    float64\n",
      " 4   pelvic_radius             310 non-null    float64\n",
      " 5   degree_spondylolisthesis  310 non-null    float64\n",
      " 6   class                     310 non-null    object \n",
      "dtypes: float64(6), object(1)\n",
      "memory usage: 17.1+ KB\n"
     ]
    }
   ],
   "source": [
    "data1.info()"
   ]
  },
  {
   "cell_type": "code",
   "execution_count": 4,
   "id": "348fd0dd",
   "metadata": {
    "execution": {
     "iopub.execute_input": "2022-08-29T11:38:12.872710Z",
     "iopub.status.busy": "2022-08-29T11:38:12.872287Z",
     "iopub.status.idle": "2022-08-29T11:38:12.892287Z",
     "shell.execute_reply": "2022-08-29T11:38:12.890869Z"
    },
    "papermill": {
     "duration": 0.033423,
     "end_time": "2022-08-29T11:38:12.894810",
     "exception": false,
     "start_time": "2022-08-29T11:38:12.861387",
     "status": "completed"
    },
    "tags": []
   },
   "outputs": [
    {
     "data": {
      "text/html": [
       "<div>\n",
       "<style scoped>\n",
       "    .dataframe tbody tr th:only-of-type {\n",
       "        vertical-align: middle;\n",
       "    }\n",
       "\n",
       "    .dataframe tbody tr th {\n",
       "        vertical-align: top;\n",
       "    }\n",
       "\n",
       "    .dataframe thead th {\n",
       "        text-align: right;\n",
       "    }\n",
       "</style>\n",
       "<table border=\"1\" class=\"dataframe\">\n",
       "  <thead>\n",
       "    <tr style=\"text-align: right;\">\n",
       "      <th></th>\n",
       "      <th>pelvic_incidence</th>\n",
       "      <th>pelvic_tilt numeric</th>\n",
       "      <th>lumbar_lordosis_angle</th>\n",
       "      <th>sacral_slope</th>\n",
       "      <th>pelvic_radius</th>\n",
       "      <th>degree_spondylolisthesis</th>\n",
       "      <th>class</th>\n",
       "    </tr>\n",
       "  </thead>\n",
       "  <tbody>\n",
       "    <tr>\n",
       "      <th>305</th>\n",
       "      <td>47.903565</td>\n",
       "      <td>13.616688</td>\n",
       "      <td>36.000000</td>\n",
       "      <td>34.286877</td>\n",
       "      <td>117.449062</td>\n",
       "      <td>-4.245395</td>\n",
       "      <td>Normal</td>\n",
       "    </tr>\n",
       "    <tr>\n",
       "      <th>306</th>\n",
       "      <td>53.936748</td>\n",
       "      <td>20.721496</td>\n",
       "      <td>29.220534</td>\n",
       "      <td>33.215251</td>\n",
       "      <td>114.365845</td>\n",
       "      <td>-0.421010</td>\n",
       "      <td>Normal</td>\n",
       "    </tr>\n",
       "    <tr>\n",
       "      <th>307</th>\n",
       "      <td>61.446597</td>\n",
       "      <td>22.694968</td>\n",
       "      <td>46.170347</td>\n",
       "      <td>38.751628</td>\n",
       "      <td>125.670725</td>\n",
       "      <td>-2.707880</td>\n",
       "      <td>Normal</td>\n",
       "    </tr>\n",
       "    <tr>\n",
       "      <th>308</th>\n",
       "      <td>45.252792</td>\n",
       "      <td>8.693157</td>\n",
       "      <td>41.583126</td>\n",
       "      <td>36.559635</td>\n",
       "      <td>118.545842</td>\n",
       "      <td>0.214750</td>\n",
       "      <td>Normal</td>\n",
       "    </tr>\n",
       "    <tr>\n",
       "      <th>309</th>\n",
       "      <td>33.841641</td>\n",
       "      <td>5.073991</td>\n",
       "      <td>36.641233</td>\n",
       "      <td>28.767649</td>\n",
       "      <td>123.945244</td>\n",
       "      <td>-0.199249</td>\n",
       "      <td>Normal</td>\n",
       "    </tr>\n",
       "  </tbody>\n",
       "</table>\n",
       "</div>"
      ],
      "text/plain": [
       "     pelvic_incidence  pelvic_tilt numeric  lumbar_lordosis_angle  \\\n",
       "305         47.903565            13.616688              36.000000   \n",
       "306         53.936748            20.721496              29.220534   \n",
       "307         61.446597            22.694968              46.170347   \n",
       "308         45.252792             8.693157              41.583126   \n",
       "309         33.841641             5.073991              36.641233   \n",
       "\n",
       "     sacral_slope  pelvic_radius  degree_spondylolisthesis   class  \n",
       "305     34.286877     117.449062                 -4.245395  Normal  \n",
       "306     33.215251     114.365845                 -0.421010  Normal  \n",
       "307     38.751628     125.670725                 -2.707880  Normal  \n",
       "308     36.559635     118.545842                  0.214750  Normal  \n",
       "309     28.767649     123.945244                 -0.199249  Normal  "
      ]
     },
     "execution_count": 4,
     "metadata": {},
     "output_type": "execute_result"
    }
   ],
   "source": [
    "data1.tail()"
   ]
  },
  {
   "cell_type": "code",
   "execution_count": 5,
   "id": "871a2254",
   "metadata": {
    "execution": {
     "iopub.execute_input": "2022-08-29T11:38:12.915895Z",
     "iopub.status.busy": "2022-08-29T11:38:12.915065Z",
     "iopub.status.idle": "2022-08-29T11:38:12.921240Z",
     "shell.execute_reply": "2022-08-29T11:38:12.920360Z"
    },
    "papermill": {
     "duration": 0.019299,
     "end_time": "2022-08-29T11:38:12.923528",
     "exception": false,
     "start_time": "2022-08-29T11:38:12.904229",
     "status": "completed"
    },
    "tags": []
   },
   "outputs": [],
   "source": [
    "# data1'deki \"pelvic_tilt numeric\" kolon adını data2'deki gibi pelvic_tilt yapalım\n",
    "data1.rename(columns={\"pelvic_tilt numeric\": \"pelvic_tilt\"}, inplace = True)"
   ]
  },
  {
   "cell_type": "code",
   "execution_count": 6,
   "id": "630c8016",
   "metadata": {
    "execution": {
     "iopub.execute_input": "2022-08-29T11:38:12.944297Z",
     "iopub.status.busy": "2022-08-29T11:38:12.943500Z",
     "iopub.status.idle": "2022-08-29T11:38:12.951158Z",
     "shell.execute_reply": "2022-08-29T11:38:12.950251Z"
    },
    "papermill": {
     "duration": 0.020546,
     "end_time": "2022-08-29T11:38:12.953339",
     "exception": false,
     "start_time": "2022-08-29T11:38:12.932793",
     "status": "completed"
    },
    "tags": []
   },
   "outputs": [
    {
     "data": {
      "text/plain": [
       "Index(['pelvic_incidence', 'pelvic_tilt', 'lumbar_lordosis_angle',\n",
       "       'sacral_slope', 'pelvic_radius', 'degree_spondylolisthesis', 'class'],\n",
       "      dtype='object')"
      ]
     },
     "execution_count": 6,
     "metadata": {},
     "output_type": "execute_result"
    }
   ],
   "source": [
    "data1.columns"
   ]
  },
  {
   "cell_type": "code",
   "execution_count": 7,
   "id": "46886134",
   "metadata": {
    "execution": {
     "iopub.execute_input": "2022-08-29T11:38:12.976283Z",
     "iopub.status.busy": "2022-08-29T11:38:12.975454Z",
     "iopub.status.idle": "2022-08-29T11:38:12.984544Z",
     "shell.execute_reply": "2022-08-29T11:38:12.983639Z"
    },
    "papermill": {
     "duration": 0.022851,
     "end_time": "2022-08-29T11:38:12.986965",
     "exception": false,
     "start_time": "2022-08-29T11:38:12.964114",
     "status": "completed"
    },
    "tags": []
   },
   "outputs": [],
   "source": [
    "A = data1[data1[\"class\"] == \"Abnormal\"]\n",
    "N = data1[data1[\"class\"] == \"Normal\"]"
   ]
  },
  {
   "cell_type": "code",
   "execution_count": 8,
   "id": "6db711fd",
   "metadata": {
    "execution": {
     "iopub.execute_input": "2022-08-29T11:38:13.009209Z",
     "iopub.status.busy": "2022-08-29T11:38:13.008334Z",
     "iopub.status.idle": "2022-08-29T11:38:13.234776Z",
     "shell.execute_reply": "2022-08-29T11:38:13.233525Z"
    },
    "papermill": {
     "duration": 0.240764,
     "end_time": "2022-08-29T11:38:13.237217",
     "exception": false,
     "start_time": "2022-08-29T11:38:12.996453",
     "status": "completed"
    },
    "tags": []
   },
   "outputs": [
    {
     "data": {
      "image/png": "[encoded data removed]",
      "text/plain": [
       "<Figure size 640x480 with 1 Axes>"
      ]
     },
     "metadata": {},
     "output_type": "display_data"
    }
   ],
   "source": [
    "#Now we can visualize with scatter plot\n",
    "plt.scatter(A.pelvic_incidence, A.pelvic_radius, color =\"red\", label = \"abnormal\")\n",
    "plt.scatter(N.pelvic_incidence, N.pelvic_radius, color =\"green\", label = \"normal\")\n",
    "plt.show()"
   ]
  },
  {
   "cell_type": "code",
   "execution_count": 9,
   "id": "ccf58091",
   "metadata": {
    "execution": {
     "iopub.execute_input": "2022-08-29T11:38:13.259233Z",
     "iopub.status.busy": "2022-08-29T11:38:13.258095Z",
     "iopub.status.idle": "2022-08-29T11:38:13.440525Z",
     "shell.execute_reply": "2022-08-29T11:38:13.439333Z"
    },
    "papermill": {
     "duration": 0.195936,
     "end_time": "2022-08-29T11:38:13.442984",
     "exception": false,
     "start_time": "2022-08-29T11:38:13.247048",
     "status": "completed"
    },
    "tags": []
   },
   "outputs": [
    {
     "data": {
      "image/png": "[encoded data removed]",
      "text/plain": [
       "<Figure size 640x480 with 1 Axes>"
      ]
     },
     "metadata": {},
     "output_type": "display_data"
    }
   ],
   "source": [
    "#Now we can visualize with scatter plot\n",
    "plt.scatter(A.pelvic_incidence, A.pelvic_tilt, color =\"red\", label = \"abnormal\")\n",
    "plt.scatter(N.pelvic_incidence, N.pelvic_tilt, color =\"green\", label = \"normal\")\n",
    "plt.show()"
   ]
  },
  {
   "cell_type": "code",
   "execution_count": 10,
   "id": "ee32f592",
   "metadata": {
    "execution": {
     "iopub.execute_input": "2022-08-29T11:38:13.465703Z",
     "iopub.status.busy": "2022-08-29T11:38:13.465001Z",
     "iopub.status.idle": "2022-08-29T11:38:13.472858Z",
     "shell.execute_reply": "2022-08-29T11:38:13.471617Z"
    },
    "papermill": {
     "duration": 0.02178,
     "end_time": "2022-08-29T11:38:13.475379",
     "exception": false,
     "start_time": "2022-08-29T11:38:13.453599",
     "status": "completed"
    },
    "tags": []
   },
   "outputs": [],
   "source": [
    "data1[\"class\"] = [1 if each == \"Normal\" else 0 for each in data1[\"class\"]]\n",
    "y = data1[\"class\"].values\n",
    "x_data = data1.drop([\"class\"], axis = 1)"
   ]
  },
  {
   "cell_type": "code",
   "execution_count": 11,
   "id": "baf6f50e",
   "metadata": {
    "execution": {
     "iopub.execute_input": "2022-08-29T11:38:13.498703Z",
     "iopub.status.busy": "2022-08-29T11:38:13.498279Z",
     "iopub.status.idle": "2022-08-29T11:38:13.506751Z",
     "shell.execute_reply": "2022-08-29T11:38:13.505884Z"
    },
    "papermill": {
     "duration": 0.022893,
     "end_time": "2022-08-29T11:38:13.509070",
     "exception": false,
     "start_time": "2022-08-29T11:38:13.486177",
     "status": "completed"
    },
    "tags": []
   },
   "outputs": [
    {
     "name": "stderr",
     "output_type": "stream",
     "text": [
      "/Users/ozgurcoban/opt/anaconda3/lib/python3.9/site-packages/numpy/core/fromnumeric.py:84: FutureWarning: In a future version, DataFrame.min(axis=None) will return a scalar min over the entire DataFrame. To retain the old behavior, use 'frame.min(axis=0)' or just 'frame.min()'\n",
      "  return reduction(axis=axis, out=out, **passkwargs)\n",
      "/Users/ozgurcoban/opt/anaconda3/lib/python3.9/site-packages/numpy/core/fromnumeric.py:84: FutureWarning: In a future version, DataFrame.max(axis=None) will return a scalar max over the entire DataFrame. To retain the old behavior, use 'frame.max(axis=0)' or just 'frame.max()'\n",
      "  return reduction(axis=axis, out=out, **passkwargs)\n"
     ]
    }
   ],
   "source": [
    "#Normalization\n",
    "x = (x_data - np.min(x_data)) / (np.max(x_data) - np.min(x_data))"
   ]
  },
  {
   "cell_type": "code",
   "execution_count": 12,
   "id": "6bc958ef",
   "metadata": {
    "execution": {
     "iopub.execute_input": "2022-08-29T11:38:13.531706Z",
     "iopub.status.busy": "2022-08-29T11:38:13.531029Z",
     "iopub.status.idle": "2022-08-29T11:38:14.699181Z",
     "shell.execute_reply": "2022-08-29T11:38:14.697851Z"
    },
    "papermill": {
     "duration": 1.182891,
     "end_time": "2022-08-29T11:38:14.702196",
     "exception": false,
     "start_time": "2022-08-29T11:38:13.519305",
     "status": "completed"
    },
    "tags": []
   },
   "outputs": [],
   "source": [
    "# We should separate our data train and split datas\n",
    "from sklearn.model_selection import train_test_split\n",
    "x_train, x_test, y_train, y_test = train_test_split(x, y, test_size = 0.3, random_state = 1)# We should separate our data train and split datas"
   ]
  },
  {
   "cell_type": "code",
   "execution_count": 13,
   "id": "37a59844",
   "metadata": {
    "execution": {
     "iopub.execute_input": "2022-08-29T11:38:14.724580Z",
     "iopub.status.busy": "2022-08-29T11:38:14.723910Z",
     "iopub.status.idle": "2022-08-29T11:38:14.863724Z",
     "shell.execute_reply": "2022-08-29T11:38:14.862462Z"
    },
    "papermill": {
     "duration": 0.154243,
     "end_time": "2022-08-29T11:38:14.866621",
     "exception": false,
     "start_time": "2022-08-29T11:38:14.712378",
     "status": "completed"
    },
    "tags": []
   },
   "outputs": [
    {
     "name": "stderr",
     "output_type": "stream",
     "text": [
      "/Users/ozgurcoban/opt/anaconda3/lib/python3.9/site-packages/sklearn/neighbors/_classification.py:228: FutureWarning: Unlike other reduction functions (e.g. `skew`, `kurtosis`), the default behavior of `mode` typically preserves the axis it acts along. In SciPy 1.11.0, this behavior will change: the default value of `keepdims` will become False, the `axis` over which the statistic is taken will be eliminated, and the value None will no longer be accepted. Set `keepdims` to True or False to avoid this warning.\n",
      "  mode, _ = stats.mode(_y[neigh_ind, k], axis=1)\n"
     ]
    }
   ],
   "source": [
    "# KNN Model\n",
    "from sklearn.neighbors import KNeighborsClassifier\n",
    "knn = KNeighborsClassifier(n_neighbors = 4)\n",
    "knn.fit(x_train, y_train)\n",
    "prediction = knn.predict(x_test)"
   ]
  },
  {
   "cell_type": "code",
   "execution_count": 14,
   "id": "c0003f8d",
   "metadata": {
    "execution": {
     "iopub.execute_input": "2022-08-29T11:38:14.889487Z",
     "iopub.status.busy": "2022-08-29T11:38:14.888763Z",
     "iopub.status.idle": "2022-08-29T11:38:14.896659Z",
     "shell.execute_reply": "2022-08-29T11:38:14.895389Z"
    },
    "papermill": {
     "duration": 0.022328,
     "end_time": "2022-08-29T11:38:14.899347",
     "exception": false,
     "start_time": "2022-08-29T11:38:14.877019",
     "status": "completed"
    },
    "tags": []
   },
   "outputs": [
    {
     "data": {
      "text/plain": [
       "array([0, 0, 0, 0, 0, 0, 1, 0, 0, 0, 0, 1, 1, 1, 0, 0, 0, 1, 0, 0, 1, 0,\n",
       "       0, 0, 0, 0, 0, 0, 1, 0, 0, 0, 1, 0, 0, 0, 0, 0, 0, 0, 1, 1, 0, 1,\n",
       "       0, 0, 1, 0, 0, 1, 0, 1, 0, 0, 0, 0, 0, 0, 0, 0, 0, 0, 0, 0, 0, 0,\n",
       "       1, 0, 0, 1, 0, 0, 0, 1, 1, 0, 0, 0, 0, 1, 1, 0, 0, 0, 0, 0, 0, 0,\n",
       "       1, 1, 0, 0, 0])"
      ]
     },
     "execution_count": 14,
     "metadata": {},
     "output_type": "execute_result"
    }
   ],
   "source": [
    "prediction"
   ]
  },
  {
   "cell_type": "code",
   "execution_count": 15,
   "id": "961e8bc1",
   "metadata": {
    "execution": {
     "iopub.execute_input": "2022-08-29T11:38:14.922110Z",
     "iopub.status.busy": "2022-08-29T11:38:14.921424Z",
     "iopub.status.idle": "2022-08-29T11:38:14.933639Z",
     "shell.execute_reply": "2022-08-29T11:38:14.931917Z"
    },
    "papermill": {
     "duration": 0.026406,
     "end_time": "2022-08-29T11:38:14.936148",
     "exception": false,
     "start_time": "2022-08-29T11:38:14.909742",
     "status": "completed"
    },
    "tags": []
   },
   "outputs": [
    {
     "name": "stdout",
     "output_type": "stream",
     "text": [
      "3 knn score : 0.7741935483870968\n"
     ]
    },
    {
     "name": "stderr",
     "output_type": "stream",
     "text": [
      "/Users/ozgurcoban/opt/anaconda3/lib/python3.9/site-packages/sklearn/neighbors/_classification.py:228: FutureWarning: Unlike other reduction functions (e.g. `skew`, `kurtosis`), the default behavior of `mode` typically preserves the axis it acts along. In SciPy 1.11.0, this behavior will change: the default value of `keepdims` will become False, the `axis` over which the statistic is taken will be eliminated, and the value None will no longer be accepted. Set `keepdims` to True or False to avoid this warning.\n",
      "  mode, _ = stats.mode(_y[neigh_ind, k], axis=1)\n"
     ]
    }
   ],
   "source": [
    "print(\"{} knn score : {}\".format(3, knn.score(x_test, y_test)))"
   ]
  },
  {
   "cell_type": "code",
   "execution_count": 16,
   "id": "71292c6c",
   "metadata": {
    "execution": {
     "iopub.execute_input": "2022-08-29T11:38:14.958838Z",
     "iopub.status.busy": "2022-08-29T11:38:14.958156Z",
     "iopub.status.idle": "2022-08-29T11:38:15.225955Z",
     "shell.execute_reply": "2022-08-29T11:38:15.225101Z"
    },
    "papermill": {
     "duration": 0.281745,
     "end_time": "2022-08-29T11:38:15.228265",
     "exception": false,
     "start_time": "2022-08-29T11:38:14.946520",
     "status": "completed"
    },
    "tags": []
   },
   "outputs": [
    {
     "name": "stderr",
     "output_type": "stream",
     "text": [
      "/Users/ozgurcoban/opt/anaconda3/lib/python3.9/site-packages/sklearn/neighbors/_classification.py:228: FutureWarning: Unlike other reduction functions (e.g. `skew`, `kurtosis`), the default behavior of `mode` typically preserves the axis it acts along. In SciPy 1.11.0, this behavior will change: the default value of `keepdims` will become False, the `axis` over which the statistic is taken will be eliminated, and the value None will no longer be accepted. Set `keepdims` to True or False to avoid this warning.\n",
      "  mode, _ = stats.mode(_y[neigh_ind, k], axis=1)\n",
      "/Users/ozgurcoban/opt/anaconda3/lib/python3.9/site-packages/sklearn/neighbors/_classification.py:228: FutureWarning: Unlike other reduction functions (e.g. `skew`, `kurtosis`), the default behavior of `mode` typically preserves the axis it acts along. In SciPy 1.11.0, this behavior will change: the default value of `keepdims` will become False, the `axis` over which the statistic is taken will be eliminated, and the value None will no longer be accepted. Set `keepdims` to True or False to avoid this warning.\n",
      "  mode, _ = stats.mode(_y[neigh_ind, k], axis=1)\n",
      "/Users/ozgurcoban/opt/anaconda3/lib/python3.9/site-packages/sklearn/neighbors/_classification.py:228: FutureWarning: Unlike other reduction functions (e.g. `skew`, `kurtosis`), the default behavior of `mode` typically preserves the axis it acts along. In SciPy 1.11.0, this behavior will change: the default value of `keepdims` will become False, the `axis` over which the statistic is taken will be eliminated, and the value None will no longer be accepted. Set `keepdims` to True or False to avoid this warning.\n",
      "  mode, _ = stats.mode(_y[neigh_ind, k], axis=1)\n",
      "/Users/ozgurcoban/opt/anaconda3/lib/python3.9/site-packages/sklearn/neighbors/_classification.py:228: FutureWarning: Unlike other reduction functions (e.g. `skew`, `kurtosis`), the default behavior of `mode` typically preserves the axis it acts along. In SciPy 1.11.0, this behavior will change: the default value of `keepdims` will become False, the `axis` over which the statistic is taken will be eliminated, and the value None will no longer be accepted. Set `keepdims` to True or False to avoid this warning.\n",
      "  mode, _ = stats.mode(_y[neigh_ind, k], axis=1)\n",
      "/Users/ozgurcoban/opt/anaconda3/lib/python3.9/site-packages/sklearn/neighbors/_classification.py:228: FutureWarning: Unlike other reduction functions (e.g. `skew`, `kurtosis`), the default behavior of `mode` typically preserves the axis it acts along. In SciPy 1.11.0, this behavior will change: the default value of `keepdims` will become False, the `axis` over which the statistic is taken will be eliminated, and the value None will no longer be accepted. Set `keepdims` to True or False to avoid this warning.\n",
      "  mode, _ = stats.mode(_y[neigh_ind, k], axis=1)\n",
      "/Users/ozgurcoban/opt/anaconda3/lib/python3.9/site-packages/sklearn/neighbors/_classification.py:228: FutureWarning: Unlike other reduction functions (e.g. `skew`, `kurtosis`), the default behavior of `mode` typically preserves the axis it acts along. In SciPy 1.11.0, this behavior will change: the default value of `keepdims` will become False, the `axis` over which the statistic is taken will be eliminated, and the value None will no longer be accepted. Set `keepdims` to True or False to avoid this warning.\n",
      "  mode, _ = stats.mode(_y[neigh_ind, k], axis=1)\n",
      "/Users/ozgurcoban/opt/anaconda3/lib/python3.9/site-packages/sklearn/neighbors/_classification.py:228: FutureWarning: Unlike other reduction functions (e.g. `skew`, `kurtosis`), the default behavior of `mode` typically preserves the axis it acts along. In SciPy 1.11.0, this behavior will change: the default value of `keepdims` will become False, the `axis` over which the statistic is taken will be eliminated, and the value None will no longer be accepted. Set `keepdims` to True or False to avoid this warning.\n",
      "  mode, _ = stats.mode(_y[neigh_ind, k], axis=1)\n",
      "/Users/ozgurcoban/opt/anaconda3/lib/python3.9/site-packages/sklearn/neighbors/_classification.py:228: FutureWarning: Unlike other reduction functions (e.g. `skew`, `kurtosis`), the default behavior of `mode` typically preserves the axis it acts along. In SciPy 1.11.0, this behavior will change: the default value of `keepdims` will become False, the `axis` over which the statistic is taken will be eliminated, and the value None will no longer be accepted. Set `keepdims` to True or False to avoid this warning.\n",
      "  mode, _ = stats.mode(_y[neigh_ind, k], axis=1)\n",
      "/Users/ozgurcoban/opt/anaconda3/lib/python3.9/site-packages/sklearn/neighbors/_classification.py:228: FutureWarning: Unlike other reduction functions (e.g. `skew`, `kurtosis`), the default behavior of `mode` typically preserves the axis it acts along. In SciPy 1.11.0, this behavior will change: the default value of `keepdims` will become False, the `axis` over which the statistic is taken will be eliminated, and the value None will no longer be accepted. Set `keepdims` to True or False to avoid this warning.\n",
      "  mode, _ = stats.mode(_y[neigh_ind, k], axis=1)\n",
      "/Users/ozgurcoban/opt/anaconda3/lib/python3.9/site-packages/sklearn/neighbors/_classification.py:228: FutureWarning: Unlike other reduction functions (e.g. `skew`, `kurtosis`), the default behavior of `mode` typically preserves the axis it acts along. In SciPy 1.11.0, this behavior will change: the default value of `keepdims` will become False, the `axis` over which the statistic is taken will be eliminated, and the value None will no longer be accepted. Set `keepdims` to True or False to avoid this warning.\n",
      "  mode, _ = stats.mode(_y[neigh_ind, k], axis=1)\n",
      "/Users/ozgurcoban/opt/anaconda3/lib/python3.9/site-packages/sklearn/neighbors/_classification.py:228: FutureWarning: Unlike other reduction functions (e.g. `skew`, `kurtosis`), the default behavior of `mode` typically preserves the axis it acts along. In SciPy 1.11.0, this behavior will change: the default value of `keepdims` will become False, the `axis` over which the statistic is taken will be eliminated, and the value None will no longer be accepted. Set `keepdims` to True or False to avoid this warning.\n",
      "  mode, _ = stats.mode(_y[neigh_ind, k], axis=1)\n",
      "/Users/ozgurcoban/opt/anaconda3/lib/python3.9/site-packages/sklearn/neighbors/_classification.py:228: FutureWarning: Unlike other reduction functions (e.g. `skew`, `kurtosis`), the default behavior of `mode` typically preserves the axis it acts along. In SciPy 1.11.0, this behavior will change: the default value of `keepdims` will become False, the `axis` over which the statistic is taken will be eliminated, and the value None will no longer be accepted. Set `keepdims` to True or False to avoid this warning.\n",
      "  mode, _ = stats.mode(_y[neigh_ind, k], axis=1)\n",
      "/Users/ozgurcoban/opt/anaconda3/lib/python3.9/site-packages/sklearn/neighbors/_classification.py:228: FutureWarning: Unlike other reduction functions (e.g. `skew`, `kurtosis`), the default behavior of `mode` typically preserves the axis it acts along. In SciPy 1.11.0, this behavior will change: the default value of `keepdims` will become False, the `axis` over which the statistic is taken will be eliminated, and the value None will no longer be accepted. Set `keepdims` to True or False to avoid this warning.\n",
      "  mode, _ = stats.mode(_y[neigh_ind, k], axis=1)\n",
      "/Users/ozgurcoban/opt/anaconda3/lib/python3.9/site-packages/sklearn/neighbors/_classification.py:228: FutureWarning: Unlike other reduction functions (e.g. `skew`, `kurtosis`), the default behavior of `mode` typically preserves the axis it acts along. In SciPy 1.11.0, this behavior will change: the default value of `keepdims` will become False, the `axis` over which the statistic is taken will be eliminated, and the value None will no longer be accepted. Set `keepdims` to True or False to avoid this warning.\n",
      "  mode, _ = stats.mode(_y[neigh_ind, k], axis=1)\n"
     ]
    },
    {
     "data": {
      "image/png": "[encoded data removed]",
      "text/plain": [
       "<Figure size 640x480 with 1 Axes>"
      ]
     },
     "metadata": {},
     "output_type": "display_data"
    }
   ],
   "source": [
    "# find k value\n",
    "score_list = []\n",
    "for each in range(1, 15):\n",
    "    knn2 = KNeighborsClassifier(n_neighbors= each)\n",
    "    knn2.fit(x_train, y_train)\n",
    "    score_list.append(knn2.score(x_test, y_test))\n",
    "\n",
    "plt.plot(range(1, 15), score_list)\n",
    "plt.xlabel(\"k values\")\n",
    "plt.ylabel(\"accuracy\")\n",
    "plt.show()"
   ]
  },
  {
   "cell_type": "markdown",
   "id": "ff016f92",
   "metadata": {
    "papermill": {
     "duration": 0.010276,
     "end_time": "2022-08-29T11:38:15.249413",
     "exception": false,
     "start_time": "2022-08-29T11:38:15.239137",
     "status": "completed"
    },
    "tags": []
   },
   "source": [
    "if k value is 13, I think it is the best :)"
   ]
  },
  {
   "cell_type": "code",
   "execution_count": 17,
   "id": "2015c4a1",
   "metadata": {
    "execution": {
     "iopub.execute_input": "2022-08-29T11:38:15.272653Z",
     "iopub.status.busy": "2022-08-29T11:38:15.271948Z",
     "iopub.status.idle": "2022-08-29T11:38:15.284245Z",
     "shell.execute_reply": "2022-08-29T11:38:15.283047Z"
    },
    "papermill": {
     "duration": 0.02688,
     "end_time": "2022-08-29T11:38:15.286964",
     "exception": false,
     "start_time": "2022-08-29T11:38:15.260084",
     "status": "completed"
    },
    "tags": []
   },
   "outputs": [
    {
     "name": "stderr",
     "output_type": "stream",
     "text": [
      "/Users/ozgurcoban/opt/anaconda3/lib/python3.9/site-packages/sklearn/neighbors/_classification.py:228: FutureWarning: Unlike other reduction functions (e.g. `skew`, `kurtosis`), the default behavior of `mode` typically preserves the axis it acts along. In SciPy 1.11.0, this behavior will change: the default value of `keepdims` will become False, the `axis` over which the statistic is taken will be eliminated, and the value None will no longer be accepted. Set `keepdims` to True or False to avoid this warning.\n",
      "  mode, _ = stats.mode(_y[neigh_ind, k], axis=1)\n"
     ]
    }
   ],
   "source": [
    "# I wanna check again with k = 13\n",
    "\n",
    "# KNN Model\n",
    "from sklearn.neighbors import KNeighborsClassifier\n",
    "knn2 = KNeighborsClassifier(n_neighbors = 13)\n",
    "knn2.fit(x_train, y_train)\n",
    "prediction = knn2.predict(x_test)\n"
   ]
  },
  {
   "cell_type": "code",
   "execution_count": 19,
   "id": "1209a616",
   "metadata": {
    "execution": {
     "iopub.execute_input": "2022-08-29T11:38:15.310051Z",
     "iopub.status.busy": "2022-08-29T11:38:15.309631Z",
     "iopub.status.idle": "2022-08-29T11:38:15.324330Z",
     "shell.execute_reply": "2022-08-29T11:38:15.322728Z"
    },
    "papermill": {
     "duration": 0.028973,
     "end_time": "2022-08-29T11:38:15.326752",
     "exception": false,
     "start_time": "2022-08-29T11:38:15.297779",
     "status": "completed"
    },
    "tags": []
   },
   "outputs": [
    {
     "name": "stdout",
     "output_type": "stream",
     "text": [
      "13 nn score : 0.7849462365591398\n"
     ]
    },
    {
     "name": "stderr",
     "output_type": "stream",
     "text": [
      "/Users/ozgurcoban/opt/anaconda3/lib/python3.9/site-packages/sklearn/neighbors/_classification.py:228: FutureWarning: Unlike other reduction functions (e.g. `skew`, `kurtosis`), the default behavior of `mode` typically preserves the axis it acts along. In SciPy 1.11.0, this behavior will change: the default value of `keepdims` will become False, the `axis` over which the statistic is taken will be eliminated, and the value None will no longer be accepted. Set `keepdims` to True or False to avoid this warning.\n",
      "  mode, _ = stats.mode(_y[neigh_ind, k], axis=1)\n"
     ]
    }
   ],
   "source": [
    "print(\"{} nn score : {}\".format(13, knn2.score(x_test, y_test)))"
   ]
  },
  {
   "cell_type": "markdown",
   "id": "cf7e17a6",
   "metadata": {
    "papermill": {
     "duration": 0.010502,
     "end_time": "2022-08-29T11:38:15.347955",
     "exception": false,
     "start_time": "2022-08-29T11:38:15.337453",
     "status": "completed"
    },
    "tags": []
   },
   "source": [
    "# ANALYSIS FOR DATA2"
   ]
  },
  {
   "cell_type": "code",
   "execution_count": 20,
   "id": "78603510",
   "metadata": {
    "execution": {
     "iopub.execute_input": "2022-08-29T11:38:15.371480Z",
     "iopub.status.busy": "2022-08-29T11:38:15.370682Z",
     "iopub.status.idle": "2022-08-29T11:38:15.377729Z",
     "shell.execute_reply": "2022-08-29T11:38:15.376648Z"
    },
    "papermill": {
     "duration": 0.021721,
     "end_time": "2022-08-29T11:38:15.380399",
     "exception": false,
     "start_time": "2022-08-29T11:38:15.358678",
     "status": "completed"
    },
    "tags": []
   },
   "outputs": [],
   "source": [
    "A1 = data2[data2[\"class\"] == \"Hernia\"]\n",
    "N1 = data2[data2[\"class\"] == \"Normal\"]"
   ]
  },
  {
   "cell_type": "code",
   "execution_count": 21,
   "id": "6f76dc0e",
   "metadata": {
    "execution": {
     "iopub.execute_input": "2022-08-29T11:38:15.404584Z",
     "iopub.status.busy": "2022-08-29T11:38:15.403778Z",
     "iopub.status.idle": "2022-08-29T11:38:15.595816Z",
     "shell.execute_reply": "2022-08-29T11:38:15.594582Z"
    },
    "papermill": {
     "duration": 0.206838,
     "end_time": "2022-08-29T11:38:15.598294",
     "exception": false,
     "start_time": "2022-08-29T11:38:15.391456",
     "status": "completed"
    },
    "tags": []
   },
   "outputs": [
    {
     "data": {
      "image/png": "[encoded data removed]",
      "text/plain": [
       "<Figure size 640x480 with 1 Axes>"
      ]
     },
     "metadata": {},
     "output_type": "display_data"
    }
   ],
   "source": [
    "#Now we can visualize with scatter plot\n",
    "plt.scatter(A1.pelvic_incidence, A1.pelvic_radius, color =\"red\", label = \"Hernia\")\n",
    "plt.scatter(N1.pelvic_incidence, N1.pelvic_radius, color =\"green\", label = \"Normal\")\n",
    "plt.show()"
   ]
  },
  {
   "cell_type": "code",
   "execution_count": 22,
   "id": "9541dcc1",
   "metadata": {
    "execution": {
     "iopub.execute_input": "2022-08-29T11:38:15.626608Z",
     "iopub.status.busy": "2022-08-29T11:38:15.626163Z",
     "iopub.status.idle": "2022-08-29T11:38:15.813488Z",
     "shell.execute_reply": "2022-08-29T11:38:15.812660Z"
    },
    "papermill": {
     "duration": 0.206167,
     "end_time": "2022-08-29T11:38:15.815853",
     "exception": false,
     "start_time": "2022-08-29T11:38:15.609686",
     "status": "completed"
    },
    "tags": []
   },
   "outputs": [
    {
     "data": {
      "image/png": "[encoded data removed]",
      "text/plain": [
       "<Figure size 640x480 with 1 Axes>"
      ]
     },
     "metadata": {},
     "output_type": "display_data"
    }
   ],
   "source": [
    "#Now we can visualize with scatter plot\n",
    "plt.scatter(A1.pelvic_incidence, A1.pelvic_tilt, color =\"red\", label = \"Hernia\")\n",
    "plt.scatter(N1.pelvic_incidence, N1.pelvic_tilt, color =\"green\", label = \"Normal\")\n",
    "plt.show()"
   ]
  },
  {
   "cell_type": "code",
   "execution_count": 23,
   "id": "9941fe3e",
   "metadata": {
    "execution": {
     "iopub.execute_input": "2022-08-29T11:38:15.841772Z",
     "iopub.status.busy": "2022-08-29T11:38:15.840999Z",
     "iopub.status.idle": "2022-08-29T11:38:15.855738Z",
     "shell.execute_reply": "2022-08-29T11:38:15.854603Z"
    },
    "papermill": {
     "duration": 0.030554,
     "end_time": "2022-08-29T11:38:15.858085",
     "exception": false,
     "start_time": "2022-08-29T11:38:15.827531",
     "status": "completed"
    },
    "tags": []
   },
   "outputs": [
    {
     "data": {
      "text/html": [
       "<div>\n",
       "<style scoped>\n",
       "    .dataframe tbody tr th:only-of-type {\n",
       "        vertical-align: middle;\n",
       "    }\n",
       "\n",
       "    .dataframe tbody tr th {\n",
       "        vertical-align: top;\n",
       "    }\n",
       "\n",
       "    .dataframe thead th {\n",
       "        text-align: right;\n",
       "    }\n",
       "</style>\n",
       "<table border=\"1\" class=\"dataframe\">\n",
       "  <thead>\n",
       "    <tr style=\"text-align: right;\">\n",
       "      <th></th>\n",
       "      <th>pelvic_incidence</th>\n",
       "      <th>pelvic_tilt</th>\n",
       "      <th>lumbar_lordosis_angle</th>\n",
       "      <th>sacral_slope</th>\n",
       "      <th>pelvic_radius</th>\n",
       "      <th>degree_spondylolisthesis</th>\n",
       "      <th>class</th>\n",
       "    </tr>\n",
       "  </thead>\n",
       "  <tbody>\n",
       "    <tr>\n",
       "      <th>0</th>\n",
       "      <td>63.027817</td>\n",
       "      <td>22.552586</td>\n",
       "      <td>39.609117</td>\n",
       "      <td>40.475232</td>\n",
       "      <td>98.672917</td>\n",
       "      <td>-0.254400</td>\n",
       "      <td>Hernia</td>\n",
       "    </tr>\n",
       "    <tr>\n",
       "      <th>1</th>\n",
       "      <td>39.056951</td>\n",
       "      <td>10.060991</td>\n",
       "      <td>25.015378</td>\n",
       "      <td>28.995960</td>\n",
       "      <td>114.405425</td>\n",
       "      <td>4.564259</td>\n",
       "      <td>Hernia</td>\n",
       "    </tr>\n",
       "    <tr>\n",
       "      <th>2</th>\n",
       "      <td>68.832021</td>\n",
       "      <td>22.218482</td>\n",
       "      <td>50.092194</td>\n",
       "      <td>46.613539</td>\n",
       "      <td>105.985135</td>\n",
       "      <td>-3.530317</td>\n",
       "      <td>Hernia</td>\n",
       "    </tr>\n",
       "    <tr>\n",
       "      <th>3</th>\n",
       "      <td>69.297008</td>\n",
       "      <td>24.652878</td>\n",
       "      <td>44.311238</td>\n",
       "      <td>44.644130</td>\n",
       "      <td>101.868495</td>\n",
       "      <td>11.211523</td>\n",
       "      <td>Hernia</td>\n",
       "    </tr>\n",
       "    <tr>\n",
       "      <th>4</th>\n",
       "      <td>49.712859</td>\n",
       "      <td>9.652075</td>\n",
       "      <td>28.317406</td>\n",
       "      <td>40.060784</td>\n",
       "      <td>108.168725</td>\n",
       "      <td>7.918501</td>\n",
       "      <td>Hernia</td>\n",
       "    </tr>\n",
       "  </tbody>\n",
       "</table>\n",
       "</div>"
      ],
      "text/plain": [
       "   pelvic_incidence  pelvic_tilt  lumbar_lordosis_angle  sacral_slope  \\\n",
       "0         63.027817    22.552586              39.609117     40.475232   \n",
       "1         39.056951    10.060991              25.015378     28.995960   \n",
       "2         68.832021    22.218482              50.092194     46.613539   \n",
       "3         69.297008    24.652878              44.311238     44.644130   \n",
       "4         49.712859     9.652075              28.317406     40.060784   \n",
       "\n",
       "   pelvic_radius  degree_spondylolisthesis   class  \n",
       "0      98.672917                 -0.254400  Hernia  \n",
       "1     114.405425                  4.564259  Hernia  \n",
       "2     105.985135                 -3.530317  Hernia  \n",
       "3     101.868495                 11.211523  Hernia  \n",
       "4     108.168725                  7.918501  Hernia  "
      ]
     },
     "execution_count": 23,
     "metadata": {},
     "output_type": "execute_result"
    }
   ],
   "source": [
    "data2.head()"
   ]
  },
  {
   "cell_type": "code",
   "execution_count": 24,
   "id": "a0273deb",
   "metadata": {
    "execution": {
     "iopub.execute_input": "2022-08-29T11:38:15.883606Z",
     "iopub.status.busy": "2022-08-29T11:38:15.883174Z",
     "iopub.status.idle": "2022-08-29T11:38:15.897686Z",
     "shell.execute_reply": "2022-08-29T11:38:15.896470Z"
    },
    "papermill": {
     "duration": 0.030056,
     "end_time": "2022-08-29T11:38:15.900033",
     "exception": false,
     "start_time": "2022-08-29T11:38:15.869977",
     "status": "completed"
    },
    "tags": []
   },
   "outputs": [
    {
     "data": {
      "text/html": [
       "<div>\n",
       "<style scoped>\n",
       "    .dataframe tbody tr th:only-of-type {\n",
       "        vertical-align: middle;\n",
       "    }\n",
       "\n",
       "    .dataframe tbody tr th {\n",
       "        vertical-align: top;\n",
       "    }\n",
       "\n",
       "    .dataframe thead th {\n",
       "        text-align: right;\n",
       "    }\n",
       "</style>\n",
       "<table border=\"1\" class=\"dataframe\">\n",
       "  <thead>\n",
       "    <tr style=\"text-align: right;\">\n",
       "      <th></th>\n",
       "      <th>pelvic_incidence</th>\n",
       "      <th>pelvic_tilt</th>\n",
       "      <th>lumbar_lordosis_angle</th>\n",
       "      <th>sacral_slope</th>\n",
       "      <th>pelvic_radius</th>\n",
       "      <th>degree_spondylolisthesis</th>\n",
       "      <th>class</th>\n",
       "    </tr>\n",
       "  </thead>\n",
       "  <tbody>\n",
       "    <tr>\n",
       "      <th>305</th>\n",
       "      <td>47.903565</td>\n",
       "      <td>13.616688</td>\n",
       "      <td>36.000000</td>\n",
       "      <td>34.286877</td>\n",
       "      <td>117.449062</td>\n",
       "      <td>-4.245395</td>\n",
       "      <td>Normal</td>\n",
       "    </tr>\n",
       "    <tr>\n",
       "      <th>306</th>\n",
       "      <td>53.936748</td>\n",
       "      <td>20.721496</td>\n",
       "      <td>29.220534</td>\n",
       "      <td>33.215251</td>\n",
       "      <td>114.365845</td>\n",
       "      <td>-0.421010</td>\n",
       "      <td>Normal</td>\n",
       "    </tr>\n",
       "    <tr>\n",
       "      <th>307</th>\n",
       "      <td>61.446597</td>\n",
       "      <td>22.694968</td>\n",
       "      <td>46.170347</td>\n",
       "      <td>38.751628</td>\n",
       "      <td>125.670725</td>\n",
       "      <td>-2.707880</td>\n",
       "      <td>Normal</td>\n",
       "    </tr>\n",
       "    <tr>\n",
       "      <th>308</th>\n",
       "      <td>45.252792</td>\n",
       "      <td>8.693157</td>\n",
       "      <td>41.583126</td>\n",
       "      <td>36.559635</td>\n",
       "      <td>118.545842</td>\n",
       "      <td>0.214750</td>\n",
       "      <td>Normal</td>\n",
       "    </tr>\n",
       "    <tr>\n",
       "      <th>309</th>\n",
       "      <td>33.841641</td>\n",
       "      <td>5.073991</td>\n",
       "      <td>36.641233</td>\n",
       "      <td>28.767649</td>\n",
       "      <td>123.945244</td>\n",
       "      <td>-0.199249</td>\n",
       "      <td>Normal</td>\n",
       "    </tr>\n",
       "  </tbody>\n",
       "</table>\n",
       "</div>"
      ],
      "text/plain": [
       "     pelvic_incidence  pelvic_tilt  lumbar_lordosis_angle  sacral_slope  \\\n",
       "305         47.903565    13.616688              36.000000     34.286877   \n",
       "306         53.936748    20.721496              29.220534     33.215251   \n",
       "307         61.446597    22.694968              46.170347     38.751628   \n",
       "308         45.252792     8.693157              41.583126     36.559635   \n",
       "309         33.841641     5.073991              36.641233     28.767649   \n",
       "\n",
       "     pelvic_radius  degree_spondylolisthesis   class  \n",
       "305     117.449062                 -4.245395  Normal  \n",
       "306     114.365845                 -0.421010  Normal  \n",
       "307     125.670725                 -2.707880  Normal  \n",
       "308     118.545842                  0.214750  Normal  \n",
       "309     123.945244                 -0.199249  Normal  "
      ]
     },
     "execution_count": 24,
     "metadata": {},
     "output_type": "execute_result"
    }
   ],
   "source": [
    "data2.tail()"
   ]
  },
  {
   "cell_type": "code",
   "execution_count": 25,
   "id": "676126a7",
   "metadata": {
    "execution": {
     "iopub.execute_input": "2022-08-29T11:38:15.925874Z",
     "iopub.status.busy": "2022-08-29T11:38:15.925467Z",
     "iopub.status.idle": "2022-08-29T11:38:15.933062Z",
     "shell.execute_reply": "2022-08-29T11:38:15.931926Z"
    },
    "papermill": {
     "duration": 0.022894,
     "end_time": "2022-08-29T11:38:15.935315",
     "exception": false,
     "start_time": "2022-08-29T11:38:15.912421",
     "status": "completed"
    },
    "tags": []
   },
   "outputs": [],
   "source": [
    "data2[\"class\"] = [1 if each == \"Normal\" else 0 for each in data2[\"class\"]]\n",
    "y2 = data2[\"class\"].values\n",
    "x_data2 = data2.drop([\"class\"], axis = 1)"
   ]
  },
  {
   "cell_type": "code",
   "execution_count": 26,
   "id": "d7cecd43",
   "metadata": {
    "execution": {
     "iopub.execute_input": "2022-08-29T11:38:15.961567Z",
     "iopub.status.busy": "2022-08-29T11:38:15.961130Z",
     "iopub.status.idle": "2022-08-29T11:38:15.968899Z",
     "shell.execute_reply": "2022-08-29T11:38:15.967853Z"
    },
    "papermill": {
     "duration": 0.02362,
     "end_time": "2022-08-29T11:38:15.971090",
     "exception": false,
     "start_time": "2022-08-29T11:38:15.947470",
     "status": "completed"
    },
    "tags": []
   },
   "outputs": [
    {
     "data": {
      "text/plain": [
       "array([0, 0, 0, 0, 0, 0, 0, 0, 0, 0, 0, 0, 0, 0, 0, 0, 0, 0, 0, 0, 0, 0,\n",
       "       0, 0, 0, 0, 0, 0, 0, 0, 0, 0, 0, 0, 0, 0, 0, 0, 0, 0, 0, 0, 0, 0,\n",
       "       0, 0, 0, 0, 0, 0, 0, 0, 0, 0, 0, 0, 0, 0, 0, 0, 0, 0, 0, 0, 0, 0,\n",
       "       0, 0, 0, 0, 0, 0, 0, 0, 0, 0, 0, 0, 0, 0, 0, 0, 0, 0, 0, 0, 0, 0,\n",
       "       0, 0, 0, 0, 0, 0, 0, 0, 0, 0, 0, 0, 0, 0, 0, 0, 0, 0, 0, 0, 0, 0,\n",
       "       0, 0, 0, 0, 0, 0, 0, 0, 0, 0, 0, 0, 0, 0, 0, 0, 0, 0, 0, 0, 0, 0,\n",
       "       0, 0, 0, 0, 0, 0, 0, 0, 0, 0, 0, 0, 0, 0, 0, 0, 0, 0, 0, 0, 0, 0,\n",
       "       0, 0, 0, 0, 0, 0, 0, 0, 0, 0, 0, 0, 0, 0, 0, 0, 0, 0, 0, 0, 0, 0,\n",
       "       0, 0, 0, 0, 0, 0, 0, 0, 0, 0, 0, 0, 0, 0, 0, 0, 0, 0, 0, 0, 0, 0,\n",
       "       0, 0, 0, 0, 0, 0, 0, 0, 0, 0, 0, 0, 1, 1, 1, 1, 1, 1, 1, 1, 1, 1,\n",
       "       1, 1, 1, 1, 1, 1, 1, 1, 1, 1, 1, 1, 1, 1, 1, 1, 1, 1, 1, 1, 1, 1,\n",
       "       1, 1, 1, 1, 1, 1, 1, 1, 1, 1, 1, 1, 1, 1, 1, 1, 1, 1, 1, 1, 1, 1,\n",
       "       1, 1, 1, 1, 1, 1, 1, 1, 1, 1, 1, 1, 1, 1, 1, 1, 1, 1, 1, 1, 1, 1,\n",
       "       1, 1, 1, 1, 1, 1, 1, 1, 1, 1, 1, 1, 1, 1, 1, 1, 1, 1, 1, 1, 1, 1,\n",
       "       1, 1])"
      ]
     },
     "execution_count": 26,
     "metadata": {},
     "output_type": "execute_result"
    }
   ],
   "source": [
    "y2"
   ]
  },
  {
   "cell_type": "code",
   "execution_count": 27,
   "id": "9f5ae486",
   "metadata": {
    "execution": {
     "iopub.execute_input": "2022-08-29T11:38:15.997345Z",
     "iopub.status.busy": "2022-08-29T11:38:15.996969Z",
     "iopub.status.idle": "2022-08-29T11:38:16.005725Z",
     "shell.execute_reply": "2022-08-29T11:38:16.004597Z"
    },
    "papermill": {
     "duration": 0.024884,
     "end_time": "2022-08-29T11:38:16.008148",
     "exception": false,
     "start_time": "2022-08-29T11:38:15.983264",
     "status": "completed"
    },
    "tags": []
   },
   "outputs": [
    {
     "name": "stderr",
     "output_type": "stream",
     "text": [
      "/Users/ozgurcoban/opt/anaconda3/lib/python3.9/site-packages/numpy/core/fromnumeric.py:84: FutureWarning: In a future version, DataFrame.min(axis=None) will return a scalar min over the entire DataFrame. To retain the old behavior, use 'frame.min(axis=0)' or just 'frame.min()'\n",
      "  return reduction(axis=axis, out=out, **passkwargs)\n",
      "/Users/ozgurcoban/opt/anaconda3/lib/python3.9/site-packages/numpy/core/fromnumeric.py:84: FutureWarning: In a future version, DataFrame.max(axis=None) will return a scalar max over the entire DataFrame. To retain the old behavior, use 'frame.max(axis=0)' or just 'frame.max()'\n",
      "  return reduction(axis=axis, out=out, **passkwargs)\n"
     ]
    }
   ],
   "source": [
    "#Normalization\n",
    "x2 = (x_data2 - np.min(x_data2)) / (np.max(x_data2) - np.min(x_data2))"
   ]
  },
  {
   "cell_type": "code",
   "execution_count": 28,
   "id": "7a9f67c7",
   "metadata": {
    "execution": {
     "iopub.execute_input": "2022-08-29T11:38:16.035225Z",
     "iopub.status.busy": "2022-08-29T11:38:16.034419Z",
     "iopub.status.idle": "2022-08-29T11:38:16.042476Z",
     "shell.execute_reply": "2022-08-29T11:38:16.041469Z"
    },
    "papermill": {
     "duration": 0.024046,
     "end_time": "2022-08-29T11:38:16.044630",
     "exception": false,
     "start_time": "2022-08-29T11:38:16.020584",
     "status": "completed"
    },
    "tags": []
   },
   "outputs": [],
   "source": [
    "# We should separate our data train and split datas\n",
    "from sklearn.model_selection import train_test_split\n",
    "x_train2, x_test2, y_train2, y_test2 = train_test_split(x2, y2, test_size = 0.3, random_state = 1)"
   ]
  },
  {
   "cell_type": "code",
   "execution_count": 29,
   "id": "3c9ea174",
   "metadata": {
    "execution": {
     "iopub.execute_input": "2022-08-29T11:38:16.070735Z",
     "iopub.status.busy": "2022-08-29T11:38:16.070316Z",
     "iopub.status.idle": "2022-08-29T11:38:16.084473Z",
     "shell.execute_reply": "2022-08-29T11:38:16.083232Z"
    },
    "papermill": {
     "duration": 0.030083,
     "end_time": "2022-08-29T11:38:16.086847",
     "exception": false,
     "start_time": "2022-08-29T11:38:16.056764",
     "status": "completed"
    },
    "tags": []
   },
   "outputs": [
    {
     "name": "stderr",
     "output_type": "stream",
     "text": [
      "/Users/ozgurcoban/opt/anaconda3/lib/python3.9/site-packages/sklearn/neighbors/_classification.py:228: FutureWarning: Unlike other reduction functions (e.g. `skew`, `kurtosis`), the default behavior of `mode` typically preserves the axis it acts along. In SciPy 1.11.0, this behavior will change: the default value of `keepdims` will become False, the `axis` over which the statistic is taken will be eliminated, and the value None will no longer be accepted. Set `keepdims` to True or False to avoid this warning.\n",
      "  mode, _ = stats.mode(_y[neigh_ind, k], axis=1)\n"
     ]
    }
   ],
   "source": [
    "# KNN Model\n",
    "from sklearn.neighbors import KNeighborsClassifier\n",
    "knn3 = KNeighborsClassifier(n_neighbors = 9)\n",
    "knn3.fit(x_train2, y_train2)\n",
    "prediction2 = knn3.predict(x_test2)"
   ]
  },
  {
   "cell_type": "code",
   "execution_count": 30,
   "id": "dae001e8",
   "metadata": {
    "execution": {
     "iopub.execute_input": "2022-08-29T11:38:16.113346Z",
     "iopub.status.busy": "2022-08-29T11:38:16.112816Z",
     "iopub.status.idle": "2022-08-29T11:38:16.120435Z",
     "shell.execute_reply": "2022-08-29T11:38:16.119309Z"
    },
    "papermill": {
     "duration": 0.023469,
     "end_time": "2022-08-29T11:38:16.122648",
     "exception": false,
     "start_time": "2022-08-29T11:38:16.099179",
     "status": "completed"
    },
    "tags": []
   },
   "outputs": [
    {
     "data": {
      "text/plain": [
       "array([0, 0, 0, 0, 1, 0, 1, 0, 0, 0, 0, 1, 1, 1, 1, 0, 0, 1, 1, 1, 1, 0,\n",
       "       1, 0, 0, 0, 0, 0, 1, 0, 0, 1, 1, 0, 0, 0, 0, 0, 0, 0, 1, 1, 0, 1,\n",
       "       0, 1, 1, 0, 0, 1, 0, 1, 0, 0, 1, 0, 0, 0, 0, 0, 0, 0, 1, 0, 0, 0,\n",
       "       1, 0, 0, 1, 0, 0, 0, 1, 1, 0, 0, 0, 0, 1, 1, 0, 0, 0, 1, 0, 0, 0,\n",
       "       1, 1, 0, 1, 0])"
      ]
     },
     "execution_count": 30,
     "metadata": {},
     "output_type": "execute_result"
    }
   ],
   "source": [
    "prediction2"
   ]
  },
  {
   "cell_type": "code",
   "execution_count": 31,
   "id": "7751167c",
   "metadata": {
    "execution": {
     "iopub.execute_input": "2022-08-29T11:38:16.149283Z",
     "iopub.status.busy": "2022-08-29T11:38:16.148871Z",
     "iopub.status.idle": "2022-08-29T11:38:16.161061Z",
     "shell.execute_reply": "2022-08-29T11:38:16.159690Z"
    },
    "papermill": {
     "duration": 0.028975,
     "end_time": "2022-08-29T11:38:16.163842",
     "exception": false,
     "start_time": "2022-08-29T11:38:16.134867",
     "status": "completed"
    },
    "tags": []
   },
   "outputs": [
    {
     "name": "stdout",
     "output_type": "stream",
     "text": [
      "9 knn score : 0.7634408602150538\n"
     ]
    },
    {
     "name": "stderr",
     "output_type": "stream",
     "text": [
      "/Users/ozgurcoban/opt/anaconda3/lib/python3.9/site-packages/sklearn/neighbors/_classification.py:228: FutureWarning: Unlike other reduction functions (e.g. `skew`, `kurtosis`), the default behavior of `mode` typically preserves the axis it acts along. In SciPy 1.11.0, this behavior will change: the default value of `keepdims` will become False, the `axis` over which the statistic is taken will be eliminated, and the value None will no longer be accepted. Set `keepdims` to True or False to avoid this warning.\n",
      "  mode, _ = stats.mode(_y[neigh_ind, k], axis=1)\n"
     ]
    }
   ],
   "source": [
    "print(\"{} knn score : {}\".format(9, knn3.score(x_test2, y_test2)))"
   ]
  },
  {
   "cell_type": "code",
   "execution_count": 32,
   "id": "0439c22b",
   "metadata": {
    "execution": {
     "iopub.execute_input": "2022-08-29T11:38:16.190108Z",
     "iopub.status.busy": "2022-08-29T11:38:16.189680Z",
     "iopub.status.idle": "2022-08-29T11:38:16.457478Z",
     "shell.execute_reply": "2022-08-29T11:38:16.456229Z"
    },
    "papermill": {
     "duration": 0.283793,
     "end_time": "2022-08-29T11:38:16.460059",
     "exception": false,
     "start_time": "2022-08-29T11:38:16.176266",
     "status": "completed"
    },
    "tags": []
   },
   "outputs": [
    {
     "name": "stderr",
     "output_type": "stream",
     "text": [
      "/Users/ozgurcoban/opt/anaconda3/lib/python3.9/site-packages/sklearn/neighbors/_classification.py:228: FutureWarning: Unlike other reduction functions (e.g. `skew`, `kurtosis`), the default behavior of `mode` typically preserves the axis it acts along. In SciPy 1.11.0, this behavior will change: the default value of `keepdims` will become False, the `axis` over which the statistic is taken will be eliminated, and the value None will no longer be accepted. Set `keepdims` to True or False to avoid this warning.\n",
      "  mode, _ = stats.mode(_y[neigh_ind, k], axis=1)\n",
      "/Users/ozgurcoban/opt/anaconda3/lib/python3.9/site-packages/sklearn/neighbors/_classification.py:228: FutureWarning: Unlike other reduction functions (e.g. `skew`, `kurtosis`), the default behavior of `mode` typically preserves the axis it acts along. In SciPy 1.11.0, this behavior will change: the default value of `keepdims` will become False, the `axis` over which the statistic is taken will be eliminated, and the value None will no longer be accepted. Set `keepdims` to True or False to avoid this warning.\n",
      "  mode, _ = stats.mode(_y[neigh_ind, k], axis=1)\n",
      "/Users/ozgurcoban/opt/anaconda3/lib/python3.9/site-packages/sklearn/neighbors/_classification.py:228: FutureWarning: Unlike other reduction functions (e.g. `skew`, `kurtosis`), the default behavior of `mode` typically preserves the axis it acts along. In SciPy 1.11.0, this behavior will change: the default value of `keepdims` will become False, the `axis` over which the statistic is taken will be eliminated, and the value None will no longer be accepted. Set `keepdims` to True or False to avoid this warning.\n",
      "  mode, _ = stats.mode(_y[neigh_ind, k], axis=1)\n",
      "/Users/ozgurcoban/opt/anaconda3/lib/python3.9/site-packages/sklearn/neighbors/_classification.py:228: FutureWarning: Unlike other reduction functions (e.g. `skew`, `kurtosis`), the default behavior of `mode` typically preserves the axis it acts along. In SciPy 1.11.0, this behavior will change: the default value of `keepdims` will become False, the `axis` over which the statistic is taken will be eliminated, and the value None will no longer be accepted. Set `keepdims` to True or False to avoid this warning.\n",
      "  mode, _ = stats.mode(_y[neigh_ind, k], axis=1)\n",
      "/Users/ozgurcoban/opt/anaconda3/lib/python3.9/site-packages/sklearn/neighbors/_classification.py:228: FutureWarning: Unlike other reduction functions (e.g. `skew`, `kurtosis`), the default behavior of `mode` typically preserves the axis it acts along. In SciPy 1.11.0, this behavior will change: the default value of `keepdims` will become False, the `axis` over which the statistic is taken will be eliminated, and the value None will no longer be accepted. Set `keepdims` to True or False to avoid this warning.\n",
      "  mode, _ = stats.mode(_y[neigh_ind, k], axis=1)\n",
      "/Users/ozgurcoban/opt/anaconda3/lib/python3.9/site-packages/sklearn/neighbors/_classification.py:228: FutureWarning: Unlike other reduction functions (e.g. `skew`, `kurtosis`), the default behavior of `mode` typically preserves the axis it acts along. In SciPy 1.11.0, this behavior will change: the default value of `keepdims` will become False, the `axis` over which the statistic is taken will be eliminated, and the value None will no longer be accepted. Set `keepdims` to True or False to avoid this warning.\n",
      "  mode, _ = stats.mode(_y[neigh_ind, k], axis=1)\n",
      "/Users/ozgurcoban/opt/anaconda3/lib/python3.9/site-packages/sklearn/neighbors/_classification.py:228: FutureWarning: Unlike other reduction functions (e.g. `skew`, `kurtosis`), the default behavior of `mode` typically preserves the axis it acts along. In SciPy 1.11.0, this behavior will change: the default value of `keepdims` will become False, the `axis` over which the statistic is taken will be eliminated, and the value None will no longer be accepted. Set `keepdims` to True or False to avoid this warning.\n",
      "  mode, _ = stats.mode(_y[neigh_ind, k], axis=1)\n",
      "/Users/ozgurcoban/opt/anaconda3/lib/python3.9/site-packages/sklearn/neighbors/_classification.py:228: FutureWarning: Unlike other reduction functions (e.g. `skew`, `kurtosis`), the default behavior of `mode` typically preserves the axis it acts along. In SciPy 1.11.0, this behavior will change: the default value of `keepdims` will become False, the `axis` over which the statistic is taken will be eliminated, and the value None will no longer be accepted. Set `keepdims` to True or False to avoid this warning.\n",
      "  mode, _ = stats.mode(_y[neigh_ind, k], axis=1)\n",
      "/Users/ozgurcoban/opt/anaconda3/lib/python3.9/site-packages/sklearn/neighbors/_classification.py:228: FutureWarning: Unlike other reduction functions (e.g. `skew`, `kurtosis`), the default behavior of `mode` typically preserves the axis it acts along. In SciPy 1.11.0, this behavior will change: the default value of `keepdims` will become False, the `axis` over which the statistic is taken will be eliminated, and the value None will no longer be accepted. Set `keepdims` to True or False to avoid this warning.\n",
      "  mode, _ = stats.mode(_y[neigh_ind, k], axis=1)\n",
      "/Users/ozgurcoban/opt/anaconda3/lib/python3.9/site-packages/sklearn/neighbors/_classification.py:228: FutureWarning: Unlike other reduction functions (e.g. `skew`, `kurtosis`), the default behavior of `mode` typically preserves the axis it acts along. In SciPy 1.11.0, this behavior will change: the default value of `keepdims` will become False, the `axis` over which the statistic is taken will be eliminated, and the value None will no longer be accepted. Set `keepdims` to True or False to avoid this warning.\n",
      "  mode, _ = stats.mode(_y[neigh_ind, k], axis=1)\n",
      "/Users/ozgurcoban/opt/anaconda3/lib/python3.9/site-packages/sklearn/neighbors/_classification.py:228: FutureWarning: Unlike other reduction functions (e.g. `skew`, `kurtosis`), the default behavior of `mode` typically preserves the axis it acts along. In SciPy 1.11.0, this behavior will change: the default value of `keepdims` will become False, the `axis` over which the statistic is taken will be eliminated, and the value None will no longer be accepted. Set `keepdims` to True or False to avoid this warning.\n",
      "  mode, _ = stats.mode(_y[neigh_ind, k], axis=1)\n",
      "/Users/ozgurcoban/opt/anaconda3/lib/python3.9/site-packages/sklearn/neighbors/_classification.py:228: FutureWarning: Unlike other reduction functions (e.g. `skew`, `kurtosis`), the default behavior of `mode` typically preserves the axis it acts along. In SciPy 1.11.0, this behavior will change: the default value of `keepdims` will become False, the `axis` over which the statistic is taken will be eliminated, and the value None will no longer be accepted. Set `keepdims` to True or False to avoid this warning.\n",
      "  mode, _ = stats.mode(_y[neigh_ind, k], axis=1)\n",
      "/Users/ozgurcoban/opt/anaconda3/lib/python3.9/site-packages/sklearn/neighbors/_classification.py:228: FutureWarning: Unlike other reduction functions (e.g. `skew`, `kurtosis`), the default behavior of `mode` typically preserves the axis it acts along. In SciPy 1.11.0, this behavior will change: the default value of `keepdims` will become False, the `axis` over which the statistic is taken will be eliminated, and the value None will no longer be accepted. Set `keepdims` to True or False to avoid this warning.\n",
      "  mode, _ = stats.mode(_y[neigh_ind, k], axis=1)\n",
      "/Users/ozgurcoban/opt/anaconda3/lib/python3.9/site-packages/sklearn/neighbors/_classification.py:228: FutureWarning: Unlike other reduction functions (e.g. `skew`, `kurtosis`), the default behavior of `mode` typically preserves the axis it acts along. In SciPy 1.11.0, this behavior will change: the default value of `keepdims` will become False, the `axis` over which the statistic is taken will be eliminated, and the value None will no longer be accepted. Set `keepdims` to True or False to avoid this warning.\n",
      "  mode, _ = stats.mode(_y[neigh_ind, k], axis=1)\n"
     ]
    },
    {
     "data": {
      "image/png": "[encoded data removed]",
      "text/plain": [
       "<Figure size 640x480 with 1 Axes>"
      ]
     },
     "metadata": {},
     "output_type": "display_data"
    }
   ],
   "source": [
    "# find k value\n",
    "score_list2 = []\n",
    "for each in range(1, 15):\n",
    "    knn4 = KNeighborsClassifier(n_neighbors = each)\n",
    "    knn4.fit(x_train2, y_train2)\n",
    "    score_list2.append(knn4.score(x_test2, y_test2))\n",
    "\n",
    "plt.plot(range(1, 15), score_list2)\n",
    "plt.xlabel(\"k values\")\n",
    "plt.ylabel(\"accuracy\")\n",
    "plt.show()"
   ]
  },
  {
   "cell_type": "code",
   "execution_count": 33,
   "id": "1dc44c43",
   "metadata": {
    "execution": {
     "iopub.execute_input": "2022-08-29T11:38:16.487091Z",
     "iopub.status.busy": "2022-08-29T11:38:16.486410Z",
     "iopub.status.idle": "2022-08-29T11:38:16.501161Z",
     "shell.execute_reply": "2022-08-29T11:38:16.499963Z"
    },
    "papermill": {
     "duration": 0.031354,
     "end_time": "2022-08-29T11:38:16.503988",
     "exception": false,
     "start_time": "2022-08-29T11:38:16.472634",
     "status": "completed"
    },
    "tags": []
   },
   "outputs": [
    {
     "name": "stderr",
     "output_type": "stream",
     "text": [
      "/Users/ozgurcoban/opt/anaconda3/lib/python3.9/site-packages/sklearn/neighbors/_classification.py:228: FutureWarning: Unlike other reduction functions (e.g. `skew`, `kurtosis`), the default behavior of `mode` typically preserves the axis it acts along. In SciPy 1.11.0, this behavior will change: the default value of `keepdims` will become False, the `axis` over which the statistic is taken will be eliminated, and the value None will no longer be accepted. Set `keepdims` to True or False to avoid this warning.\n",
      "  mode, _ = stats.mode(_y[neigh_ind, k], axis=1)\n"
     ]
    }
   ],
   "source": [
    "# I wanna check again with k = 13\n",
    "\n",
    "# KNN Model\n",
    "from sklearn.neighbors import KNeighborsClassifier\n",
    "knn4 = KNeighborsClassifier(n_neighbors = 13)\n",
    "knn4.fit(x_train2, y_train2)\n",
    "prediction2 = knn4.predict(x_test2)"
   ]
  },
  {
   "cell_type": "code",
   "execution_count": 34,
   "id": "dbf37b07",
   "metadata": {
    "execution": {
     "iopub.execute_input": "2022-08-29T11:38:16.531529Z",
     "iopub.status.busy": "2022-08-29T11:38:16.530791Z",
     "iopub.status.idle": "2022-08-29T11:38:16.537999Z",
     "shell.execute_reply": "2022-08-29T11:38:16.537055Z"
    },
    "papermill": {
     "duration": 0.02352,
     "end_time": "2022-08-29T11:38:16.540259",
     "exception": false,
     "start_time": "2022-08-29T11:38:16.516739",
     "status": "completed"
    },
    "tags": []
   },
   "outputs": [
    {
     "data": {
      "text/plain": [
       "array([0, 0, 0, 0, 1, 0, 1, 0, 0, 0, 0, 1, 1, 1, 1, 0, 0, 1, 1, 1, 1, 1,\n",
       "       0, 0, 0, 0, 0, 0, 1, 0, 0, 1, 1, 0, 0, 0, 0, 0, 0, 0, 1, 1, 0, 1,\n",
       "       0, 1, 1, 0, 0, 1, 0, 1, 0, 0, 0, 0, 1, 0, 0, 0, 1, 0, 1, 0, 0, 0,\n",
       "       1, 0, 0, 1, 0, 0, 0, 1, 1, 0, 0, 0, 0, 1, 1, 0, 0, 0, 0, 0, 0, 0,\n",
       "       1, 1, 0, 1, 0])"
      ]
     },
     "execution_count": 34,
     "metadata": {},
     "output_type": "execute_result"
    }
   ],
   "source": [
    "prediction2"
   ]
  },
  {
   "cell_type": "code",
   "execution_count": 35,
   "id": "e4ff8ab8",
   "metadata": {
    "execution": {
     "iopub.execute_input": "2022-08-29T11:38:16.568950Z",
     "iopub.status.busy": "2022-08-29T11:38:16.568135Z",
     "iopub.status.idle": "2022-08-29T11:38:16.581134Z",
     "shell.execute_reply": "2022-08-29T11:38:16.579636Z"
    },
    "papermill": {
     "duration": 0.030164,
     "end_time": "2022-08-29T11:38:16.583955",
     "exception": false,
     "start_time": "2022-08-29T11:38:16.553791",
     "status": "completed"
    },
    "tags": []
   },
   "outputs": [
    {
     "name": "stdout",
     "output_type": "stream",
     "text": [
      "13 nn score : 0.7849462365591398\n"
     ]
    },
    {
     "name": "stderr",
     "output_type": "stream",
     "text": [
      "/Users/ozgurcoban/opt/anaconda3/lib/python3.9/site-packages/sklearn/neighbors/_classification.py:228: FutureWarning: Unlike other reduction functions (e.g. `skew`, `kurtosis`), the default behavior of `mode` typically preserves the axis it acts along. In SciPy 1.11.0, this behavior will change: the default value of `keepdims` will become False, the `axis` over which the statistic is taken will be eliminated, and the value None will no longer be accepted. Set `keepdims` to True or False to avoid this warning.\n",
      "  mode, _ = stats.mode(_y[neigh_ind, k], axis=1)\n"
     ]
    }
   ],
   "source": [
    "print(\"{} nn score : {}\".format(13, knn4.score(x_test2, y_test2)))"
   ]
  },
  {
   "cell_type": "markdown",
   "id": "0e016497",
   "metadata": {
    "papermill": {
     "duration": 0.012516,
     "end_time": "2022-08-29T11:38:16.609652",
     "exception": false,
     "start_time": "2022-08-29T11:38:16.597136",
     "status": "completed"
    },
    "tags": []
   },
   "source": [
    "# Conclusion\n",
    "\n",
    "* If k is equal 13, my test result gives the best accuracy."
   ]
  },
  {
   "cell_type": "code",
   "execution_count": null,
   "id": "455beda6",
   "metadata": {},
   "outputs": [],
   "source": []
  }
 ],
 "metadata": {
  "kernelspec": {
   "display_name": "Python 3 (ipykernel)",
   "language": "python",
   "name": "python3"
  },
  "language_info": {
   "codemirror_mode": {
    "name": "ipython",
    "version": 3
   },
   "file_extension": ".py",
   "mimetype": "text/x-python",
   "name": "python",
   "nbconvert_exporter": "python",
   "pygments_lexer": "ipython3",
   "version": "3.9.13"
  },
  "papermill": {
   "default_parameters": {},
   "duration": 13.633169,
   "end_time": "2022-08-29T11:38:17.345342",
   "environment_variables": {},
   "exception": null,
   "input_path": "__notebook__.ipynb",
   "output_path": "__notebook__.ipynb",
   "parameters": {},
   "start_time": "2022-08-29T11:38:03.712173",
   "version": "2.3.4"
  }
 },
 "nbformat": 4,
 "nbformat_minor": 5
}
