{
 "cells": [
  {
   "cell_type": "markdown",
   "id": "b26c4863",
   "metadata": {},
   "source": [
    "**Python Review**"
   ]
  },
  {
   "cell_type": "code",
   "execution_count": 2,
   "id": "66435cfb",
   "metadata": {},
   "outputs": [],
   "source": [
    "var1=10\n",
    "var2=15\n",
    "resukt=9.99\n",
    "month=\"june\" \n",
    "year=\"2000\""
   ]
  },
  {
   "cell_type": "code",
   "execution_count": 8,
   "id": "ed8c03c9",
   "metadata": {},
   "outputs": [
    {
     "data": {
      "text/plain": [
       "list"
      ]
     },
     "execution_count": 8,
     "metadata": {},
     "output_type": "execute_result"
    }
   ],
   "source": [
    "arraylist=[66,2,3,4,5]\n",
    "type(arraylist)"
   ]
  },
  {
   "cell_type": "code",
   "execution_count": 9,
   "id": "6ea737ee",
   "metadata": {},
   "outputs": [
    {
     "name": "stdout",
     "output_type": "stream",
     "text": [
      "66\n"
     ]
    }
   ],
   "source": [
    "varArray=arraylist[0]\n",
    "print(varArray)"
   ]
  },
  {
   "cell_type": "code",
   "execution_count": 10,
   "id": "c4ea6edc",
   "metadata": {},
   "outputs": [
    {
     "data": {
      "text/plain": [
       "66"
      ]
     },
     "execution_count": 10,
     "metadata": {},
     "output_type": "execute_result"
    }
   ],
   "source": [
    "varArray"
   ]
  },
  {
   "cell_type": "code",
   "execution_count": 11,
   "id": "19e29dc1",
   "metadata": {},
   "outputs": [
    {
     "data": {
      "text/plain": [
       "5"
      ]
     },
     "execution_count": 11,
     "metadata": {},
     "output_type": "execute_result"
    }
   ],
   "source": [
    "arraylist[-1]"
   ]
  },
  {
   "cell_type": "code",
   "execution_count": 12,
   "id": "e0ccadc1",
   "metadata": {},
   "outputs": [
    {
     "data": {
      "text/plain": [
       "[66, 2, 3]"
      ]
     },
     "execution_count": 12,
     "metadata": {},
     "output_type": "execute_result"
    }
   ],
   "source": [
    "arraylist[0:3]"
   ]
  },
  {
   "cell_type": "code",
   "execution_count": 14,
   "id": "f7b4d155",
   "metadata": {},
   "outputs": [
    {
     "data": {
      "text/plain": [
       "[2, 3, 4]"
      ]
     },
     "execution_count": 14,
     "metadata": {},
     "output_type": "execute_result"
    }
   ],
   "source": [
    "arraylist[1:4]"
   ]
  },
  {
   "cell_type": "code",
   "execution_count": 16,
   "id": "2019f02a",
   "metadata": {},
   "outputs": [
    {
     "data": {
      "text/plain": [
       "['__add__',\n",
       " '__class__',\n",
       " '__class_getitem__',\n",
       " '__contains__',\n",
       " '__delattr__',\n",
       " '__delitem__',\n",
       " '__dir__',\n",
       " '__doc__',\n",
       " '__eq__',\n",
       " '__format__',\n",
       " '__ge__',\n",
       " '__getattribute__',\n",
       " '__getitem__',\n",
       " '__gt__',\n",
       " '__hash__',\n",
       " '__iadd__',\n",
       " '__imul__',\n",
       " '__init__',\n",
       " '__init_subclass__',\n",
       " '__iter__',\n",
       " '__le__',\n",
       " '__len__',\n",
       " '__lt__',\n",
       " '__mul__',\n",
       " '__ne__',\n",
       " '__new__',\n",
       " '__reduce__',\n",
       " '__reduce_ex__',\n",
       " '__repr__',\n",
       " '__reversed__',\n",
       " '__rmul__',\n",
       " '__setattr__',\n",
       " '__setitem__',\n",
       " '__sizeof__',\n",
       " '__str__',\n",
       " '__subclasshook__',\n",
       " 'append',\n",
       " 'clear',\n",
       " 'copy',\n",
       " 'count',\n",
       " 'extend',\n",
       " 'index',\n",
       " 'insert',\n",
       " 'pop',\n",
       " 'remove',\n",
       " 'reverse',\n",
       " 'sort']"
      ]
     },
     "execution_count": 16,
     "metadata": {},
     "output_type": "execute_result"
    }
   ],
   "source": [
    "dir(arraylist)"
   ]
  },
  {
   "cell_type": "code",
   "execution_count": 19,
   "id": "22524818",
   "metadata": {},
   "outputs": [],
   "source": [
    "arraylist.reverse()"
   ]
  },
  {
   "cell_type": "code",
   "execution_count": 20,
   "id": "1811f2df",
   "metadata": {},
   "outputs": [
    {
     "data": {
      "text/plain": [
       "[66, 2, 3, 4, 5]"
      ]
     },
     "execution_count": 20,
     "metadata": {},
     "output_type": "execute_result"
    }
   ],
   "source": [
    "arraylist"
   ]
  },
  {
   "cell_type": "code",
   "execution_count": 21,
   "id": "87f7e26e",
   "metadata": {},
   "outputs": [],
   "source": [
    "arraylist.sort()"
   ]
  },
  {
   "cell_type": "code",
   "execution_count": 22,
   "id": "b8cbdfb9",
   "metadata": {},
   "outputs": [
    {
     "data": {
      "text/plain": [
       "[2, 3, 4, 5, 66]"
      ]
     },
     "execution_count": 22,
     "metadata": {},
     "output_type": "execute_result"
    }
   ],
   "source": [
    "arraylist"
   ]
  },
  {
   "cell_type": "code",
   "execution_count": 23,
   "id": "cc9a109f",
   "metadata": {},
   "outputs": [
    {
     "data": {
      "text/plain": [
       "66"
      ]
     },
     "execution_count": 23,
     "metadata": {},
     "output_type": "execute_result"
    }
   ],
   "source": [
    "arraylist.pop()"
   ]
  },
  {
   "cell_type": "code",
   "execution_count": 24,
   "id": "f73cb86e",
   "metadata": {},
   "outputs": [
    {
     "name": "stdout",
     "output_type": "stream",
     "text": [
      "3\n",
      "4\n",
      "5\n",
      "6\n",
      "7\n",
      "8\n",
      "9\n",
      "10\n",
      "11\n",
      "12\n",
      "13\n",
      "14\n",
      "15\n",
      "16\n",
      "17\n",
      "18\n",
      "19\n"
     ]
    }
   ],
   "source": [
    "for i in range(3,20):\n",
    "    print(i)"
   ]
  },
  {
   "cell_type": "code",
   "execution_count": 29,
   "id": "696f8913",
   "metadata": {},
   "outputs": [
    {
     "data": {
      "text/plain": [
       "14"
      ]
     },
     "execution_count": 29,
     "metadata": {},
     "output_type": "execute_result"
    }
   ],
   "source": [
    "sum(arraylist)"
   ]
  },
  {
   "cell_type": "code",
   "execution_count": 30,
   "id": "4704b004",
   "metadata": {},
   "outputs": [
    {
     "data": {
      "text/plain": [
       "2"
      ]
     },
     "execution_count": 30,
     "metadata": {},
     "output_type": "execute_result"
    }
   ],
   "source": [
    "min(arraylist)"
   ]
  },
  {
   "cell_type": "code",
   "execution_count": 31,
   "id": "0b1eb551",
   "metadata": {},
   "outputs": [
    {
     "name": "stdout",
     "output_type": "stream",
     "text": [
      "2\n"
     ]
    }
   ],
   "source": [
    "set=0\n",
    "minn=min(arraylist)\n",
    "for eac in arraylist:\n",
    "    if(eac<minn):\n",
    "        set=minn\n",
    "    else:\n",
    "        continue\n",
    "print(minn)\n",
    "        "
   ]
  },
  {
   "cell_type": "code",
   "execution_count": 32,
   "id": "641139ce",
   "metadata": {},
   "outputs": [
    {
     "name": "stdout",
     "output_type": "stream",
     "text": [
      "0\n",
      "1\n",
      "2\n",
      "3\n",
      "4\n"
     ]
    }
   ],
   "source": [
    "i=0\n",
    "while(i<5):\n",
    "    print(i)\n",
    "    i=i+1"
   ]
  },
  {
   "cell_type": "code",
   "execution_count": 33,
   "id": "a8649dd1",
   "metadata": {},
   "outputs": [
    {
     "data": {
      "text/plain": [
       "12.56"
      ]
     },
     "execution_count": 33,
     "metadata": {},
     "output_type": "execute_result"
    }
   ],
   "source": [
    "def area(r,pi=3.14):\n",
    "    result=pi*r*r\n",
    "    return result\n",
    "area(2)"
   ]
  },
  {
   "cell_type": "code",
   "execution_count": 34,
   "id": "f2d23fc8",
   "metadata": {},
   "outputs": [
    {
     "name": "stdout",
     "output_type": "stream",
     "text": [
      "16\n"
     ]
    }
   ],
   "source": [
    "def calculate(x):\n",
    "    r=x*x\n",
    "    return x\n",
    "result=calculate(3)\n",
    "result2=lambda x:x*x\n",
    "print(result2(4))"
   ]
  },
  {
   "cell_type": "code",
   "execution_count": 35,
   "id": "f3349234",
   "metadata": {},
   "outputs": [],
   "source": [
    "dictionary={\"ozgur\":22,\"ahmet\":12,\"jack\":55}"
   ]
  },
  {
   "cell_type": "code",
   "execution_count": 36,
   "id": "628b64be",
   "metadata": {},
   "outputs": [
    {
     "data": {
      "text/plain": [
       "55"
      ]
     },
     "execution_count": 36,
     "metadata": {},
     "output_type": "execute_result"
    }
   ],
   "source": [
    "dictionary[\"jack\"]"
   ]
  },
  {
   "cell_type": "code",
   "execution_count": 37,
   "id": "d2fd4a09",
   "metadata": {},
   "outputs": [
    {
     "data": {
      "text/plain": [
       "dict_keys(['ozgur', 'ahmet', 'jack'])"
      ]
     },
     "execution_count": 37,
     "metadata": {},
     "output_type": "execute_result"
    }
   ],
   "source": [
    "dictionary.keys()"
   ]
  },
  {
   "cell_type": "code",
   "execution_count": 38,
   "id": "917c0d19",
   "metadata": {},
   "outputs": [
    {
     "data": {
      "text/plain": [
       "dict_values([22, 12, 55])"
      ]
     },
     "execution_count": 38,
     "metadata": {},
     "output_type": "execute_result"
    }
   ],
   "source": [
    "dictionary.values()"
   ]
  },
  {
   "cell_type": "code",
   "execution_count": 39,
   "id": "957c11a3",
   "metadata": {},
   "outputs": [],
   "source": [
    "def test():\n",
    "    dictionary={\"ozgur\":22,\"ahmet\":12,\"jack\":55}\n",
    "    return dictionary\n",
    "dict=test()"
   ]
  },
  {
   "cell_type": "code",
   "execution_count": 41,
   "id": "a477de01",
   "metadata": {},
   "outputs": [
    {
     "name": "stdout",
     "output_type": "stream",
     "text": [
      "<function test at 0x7f979003e5e0>\n"
     ]
    }
   ],
   "source": [
    "print(test)"
   ]
  },
  {
   "cell_type": "code",
   "execution_count": 42,
   "id": "c6dc8062",
   "metadata": {},
   "outputs": [
    {
     "name": "stdout",
     "output_type": "stream",
     "text": [
      "no\n"
     ]
    }
   ],
   "source": [
    "keys=dictionary.keys()\n",
    "if \"Fatma\" in keys:\n",
    "    print(\"yesy\")\n",
    "else:\n",
    "    print(\"no\")"
   ]
  },
  {
   "cell_type": "code",
   "execution_count": null,
   "id": "b3820520",
   "metadata": {},
   "outputs": [],
   "source": []
  }
 ],
 "metadata": {
  "kernelspec": {
   "display_name": "Python 3 (ipykernel)",
   "language": "python",
   "name": "python3"
  },
  "language_info": {
   "codemirror_mode": {
    "name": "ipython",
    "version": 3
   },
   "file_extension": ".py",
   "mimetype": "text/x-python",
   "name": "python",
   "nbconvert_exporter": "python",
   "pygments_lexer": "ipython3",
   "version": "3.9.13"
  }
 },
 "nbformat": 4,
 "nbformat_minor": 5
}
