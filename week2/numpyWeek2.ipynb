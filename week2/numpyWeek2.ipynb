{
 "cells": [
  {
   "cell_type": "code",
   "execution_count": null,
   "id": "caf3803d",
   "metadata": {},
   "outputs": [],
   "source": []
  },
  {
   "cell_type": "code",
   "execution_count": 1,
   "id": "7ef60fd6",
   "metadata": {},
   "outputs": [],
   "source": [
    "import numpy as np"
   ]
  },
  {
   "cell_type": "code",
   "execution_count": 2,
   "id": "da7e7a3a",
   "metadata": {},
   "outputs": [
    {
     "name": "stdout",
     "output_type": "stream",
     "text": [
      "[1 2 3 6 7 8 9 0]\n"
     ]
    }
   ],
   "source": [
    "array = np.array([1,2,3,6,7,8,9,0]) \n",
    "print(array)"
   ]
  },
  {
   "cell_type": "code",
   "execution_count": 3,
   "id": "429ea82a",
   "metadata": {},
   "outputs": [
    {
     "name": "stdout",
     "output_type": "stream",
     "text": [
      "(8,)\n"
     ]
    }
   ],
   "source": [
    "array2= np.array([11,12,13,14,15,20,25,30])\n",
    "print(array2.shape) "
   ]
  },
  {
   "cell_type": "code",
   "execution_count": 4,
   "id": "fb7385eb",
   "metadata": {},
   "outputs": [
    {
     "name": "stdout",
     "output_type": "stream",
     "text": [
      "[[11 12 13 14]\n",
      " [15 20 25 30]]\n"
     ]
    }
   ],
   "source": [
    "a = array2.reshape(2,4) \n",
    "print(a)"
   ]
  },
  {
   "cell_type": "code",
   "execution_count": 5,
   "id": "6fb38831",
   "metadata": {},
   "outputs": [
    {
     "name": "stdout",
     "output_type": "stream",
     "text": [
      "shape:  (2, 4)\n",
      "dimension:  2\n",
      "data type:  int64\n",
      "size:  8\n",
      "type <class 'numpy.ndarray'>\n"
     ]
    }
   ],
   "source": [
    "print(\"shape: \",a.shape) \n",
    "print(\"dimension: \",a.ndim) \n",
    "print(\"data type: \",a.dtype.name) #\n",
    "print(\"size: \",a.size) \n",
    "print(\"type\",type(a))  "
   ]
  },
  {
   "cell_type": "code",
   "execution_count": 6,
   "id": "74686d8b",
   "metadata": {},
   "outputs": [],
   "source": [
    "array3= np.array([[11,12],[13,14],[15,20],[25,30]]) "
   ]
  },
  {
   "cell_type": "code",
   "execution_count": 7,
   "id": "61d93f0c",
   "metadata": {},
   "outputs": [
    {
     "name": "stdout",
     "output_type": "stream",
     "text": [
      "[[11 12]\n",
      " [13 14]\n",
      " [15 20]\n",
      " [25 30]]\n"
     ]
    }
   ],
   "source": [
    "print(array3) "
   ]
  },
  {
   "cell_type": "code",
   "execution_count": 8,
   "id": "f9cdcf44",
   "metadata": {},
   "outputs": [
    {
     "name": "stdout",
     "output_type": "stream",
     "text": [
      "(4, 2)\n"
     ]
    }
   ],
   "source": [
    "print(array3.shape) "
   ]
  },
  {
   "cell_type": "code",
   "execution_count": 9,
   "id": "eba3ca15",
   "metadata": {},
   "outputs": [],
   "source": [
    "zeros= np.zeros((3,4))"
   ]
  },
  {
   "cell_type": "code",
   "execution_count": 10,
   "id": "4fadbd03",
   "metadata": {},
   "outputs": [
    {
     "name": "stdout",
     "output_type": "stream",
     "text": [
      "[[3. 0. 0. 0.]\n",
      " [0. 0. 0. 0.]\n",
      " [0. 0. 0. 0.]]\n"
     ]
    }
   ],
   "source": [
    "zeros[0,0]=3\n",
    "print(zeros)"
   ]
  },
  {
   "cell_type": "code",
   "execution_count": 11,
   "id": "4fce2668",
   "metadata": {},
   "outputs": [
    {
     "data": {
      "text/plain": [
       "array([[0., 0., 0., 0., 0., 0., 0.],\n",
       "       [0., 0., 0., 0., 0., 0., 0.]])"
      ]
     },
     "execution_count": 11,
     "metadata": {},
     "output_type": "execute_result"
    }
   ],
   "source": [
    "np.zeros((2,7))"
   ]
  },
  {
   "cell_type": "code",
   "execution_count": 12,
   "id": "8d657390",
   "metadata": {},
   "outputs": [
    {
     "data": {
      "text/plain": [
       "array([[ 3.45126646e-31, -6.90253292e-31,  1.72563323e-31],\n",
       "       [-6.90253292e-31,  1.50130091e-30, -4.65920972e-31],\n",
       "       [ 1.72563323e-31, -4.65920972e-31,  2.67473151e-31]])"
      ]
     },
     "execution_count": 12,
     "metadata": {},
     "output_type": "execute_result"
    }
   ],
   "source": [
    "np.empty((3,3)) "
   ]
  },
  {
   "cell_type": "code",
   "execution_count": 13,
   "id": "4cb8474a",
   "metadata": {},
   "outputs": [
    {
     "data": {
      "text/plain": [
       "array([ 0,  2,  4,  6,  8, 10])"
      ]
     },
     "execution_count": 13,
     "metadata": {},
     "output_type": "execute_result"
    }
   ],
   "source": [
    "np.arange(0,12,2) "
   ]
  },
  {
   "cell_type": "code",
   "execution_count": 14,
   "id": "7b29c1c4",
   "metadata": {},
   "outputs": [
    {
     "name": "stdout",
     "output_type": "stream",
     "text": [
      "[0.         0.01010101 0.02020202 0.03030303 0.04040404 0.05050505\n",
      " 0.06060606 0.07070707 0.08080808 0.09090909 0.1010101  0.11111111\n",
      " 0.12121212 0.13131313 0.14141414 0.15151515 0.16161616 0.17171717\n",
      " 0.18181818 0.19191919 0.2020202  0.21212121 0.22222222 0.23232323\n",
      " 0.24242424 0.25252525 0.26262626 0.27272727 0.28282828 0.29292929\n",
      " 0.3030303  0.31313131 0.32323232 0.33333333 0.34343434 0.35353535\n",
      " 0.36363636 0.37373737 0.38383838 0.39393939 0.4040404  0.41414141\n",
      " 0.42424242 0.43434343 0.44444444 0.45454545 0.46464646 0.47474747\n",
      " 0.48484848 0.49494949 0.50505051 0.51515152 0.52525253 0.53535354\n",
      " 0.54545455 0.55555556 0.56565657 0.57575758 0.58585859 0.5959596\n",
      " 0.60606061 0.61616162 0.62626263 0.63636364 0.64646465 0.65656566\n",
      " 0.66666667 0.67676768 0.68686869 0.6969697  0.70707071 0.71717172\n",
      " 0.72727273 0.73737374 0.74747475 0.75757576 0.76767677 0.77777778\n",
      " 0.78787879 0.7979798  0.80808081 0.81818182 0.82828283 0.83838384\n",
      " 0.84848485 0.85858586 0.86868687 0.87878788 0.88888889 0.8989899\n",
      " 0.90909091 0.91919192 0.92929293 0.93939394 0.94949495 0.95959596\n",
      " 0.96969697 0.97979798 0.98989899 1.        ]\n"
     ]
    }
   ],
   "source": [
    "a= np.linspace(0,1,100) \n",
    "print(a)"
   ]
  },
  {
   "cell_type": "code",
   "execution_count": 15,
   "id": "daa5de41",
   "metadata": {},
   "outputs": [
    {
     "name": "stdout",
     "output_type": "stream",
     "text": [
      "[5 7]\n",
      "[-3 -3]\n",
      "[1 8]\n"
     ]
    }
   ],
   "source": [
    "a= np.array([1,2])\n",
    "b= np.array([4,5]) \n",
    "print(a+b)\n",
    "print(a-b) \n",
    "print(a**3) "
   ]
  },
  {
   "cell_type": "code",
   "execution_count": 16,
   "id": "ac5cb7ae",
   "metadata": {},
   "outputs": [],
   "source": [
    "a= np.array([0,2,4,6,8])"
   ]
  },
  {
   "cell_type": "code",
   "execution_count": 17,
   "id": "81298b9a",
   "metadata": {},
   "outputs": [
    {
     "name": "stdout",
     "output_type": "stream",
     "text": [
      "[0, 2, 4]\n",
      "[6 8]\n"
     ]
    }
   ],
   "source": [
    "liste = [0,2,4]\n",
    "array = np.array([6,8])\n",
    "print(liste)\n",
    "print(array)"
   ]
  },
  {
   "cell_type": "code",
   "execution_count": 18,
   "id": "9f3760ac",
   "metadata": {},
   "outputs": [
    {
     "name": "stdout",
     "output_type": "stream",
     "text": [
      "[0 2 4]\n"
     ]
    }
   ],
   "source": [
    "array = np.array(liste)\n",
    "print(array)"
   ]
  },
  {
   "cell_type": "code",
   "execution_count": 19,
   "id": "628d240c",
   "metadata": {},
   "outputs": [
    {
     "name": "stdout",
     "output_type": "stream",
     "text": [
      "[0, 2, 4]\n"
     ]
    }
   ],
   "source": [
    "liste2 = list(array)\n",
    "print(liste2)"
   ]
  },
  {
   "cell_type": "code",
   "execution_count": 20,
   "id": "4ba9224e",
   "metadata": {},
   "outputs": [
    {
     "name": "stdout",
     "output_type": "stream",
     "text": [
      "[1 2 3]\n"
     ]
    }
   ],
   "source": [
    "a = np.array([1,2,3])\n",
    "print(a)"
   ]
  },
  {
   "cell_type": "code",
   "execution_count": 21,
   "id": "131551f1",
   "metadata": {},
   "outputs": [
    {
     "name": "stdout",
     "output_type": "stream",
     "text": [
      "[5 2 3] [5 2 3] [5 2 3]\n"
     ]
    }
   ],
   "source": [
    "b=a\n",
    "c=a\n",
    "b[0]=5 \n",
    "print(a,b,c)"
   ]
  },
  {
   "cell_type": "code",
   "execution_count": 22,
   "id": "5a764d65",
   "metadata": {},
   "outputs": [],
   "source": [
    "d = a.copy()"
   ]
  },
  {
   "cell_type": "code",
   "execution_count": 23,
   "id": "ee1dc9a2",
   "metadata": {},
   "outputs": [
    {
     "name": "stdout",
     "output_type": "stream",
     "text": [
      "[0 2 4 6 8]\n"
     ]
    }
   ],
   "source": [
    "a= np.array([0,2,4,6,8])\n",
    "print(a)"
   ]
  },
  {
   "cell_type": "code",
   "execution_count": 24,
   "id": "d55bf793",
   "metadata": {},
   "outputs": [
    {
     "name": "stdout",
     "output_type": "stream",
     "text": [
      "0\n"
     ]
    }
   ],
   "source": [
    "print(a[0])"
   ]
  },
  {
   "cell_type": "code",
   "execution_count": 25,
   "id": "26b8d670",
   "metadata": {},
   "outputs": [
    {
     "name": "stdout",
     "output_type": "stream",
     "text": [
      "[2]\n"
     ]
    }
   ],
   "source": [
    "print(a[1:2])"
   ]
  },
  {
   "cell_type": "code",
   "execution_count": 26,
   "id": "b3d05df4",
   "metadata": {},
   "outputs": [
    {
     "name": "stdout",
     "output_type": "stream",
     "text": [
      "[8 6 4 2 0]\n"
     ]
    }
   ],
   "source": [
    "reverse_array = a[::-1]\n",
    "print(reverse_array)"
   ]
  },
  {
   "cell_type": "code",
   "execution_count": 27,
   "id": "788d2140",
   "metadata": {},
   "outputs": [
    {
     "name": "stdout",
     "output_type": "stream",
     "text": [
      "[[ 0  2  4  6  8]\n",
      " [10 12 14 16 18]]\n"
     ]
    }
   ],
   "source": [
    "b = np.array([[0,2,4,6,8],[10,12,14,16,18]]) \n",
    "print(b)"
   ]
  },
  {
   "cell_type": "code",
   "execution_count": 28,
   "id": "75d62246",
   "metadata": {},
   "outputs": [
    {
     "name": "stdout",
     "output_type": "stream",
     "text": [
      "12\n",
      "[ 2 12]\n",
      "[10 12 14 16 18]\n",
      "[12 14 16]\n",
      "[10 12 14 16 18]\n",
      "[ 8 18]\n"
     ]
    }
   ],
   "source": [
    "print(b[1,1])\n",
    "print(b[:,1])\n",
    "print(b[1,:])\n",
    "print(b[1,1:4])\n",
    "print(b[-1,:])\n",
    "print(b[:,-1])"
   ]
  },
  {
   "cell_type": "code",
   "execution_count": 29,
   "id": "339ffdd3",
   "metadata": {},
   "outputs": [
    {
     "name": "stdout",
     "output_type": "stream",
     "text": [
      "[[ 0  2  4]\n",
      " [ 6  8 10]\n",
      " [12 14 16]]\n"
     ]
    }
   ],
   "source": [
    "array = np.array([[0,2,4],[6,8,10],[12,14,16]])\n",
    "print(array)"
   ]
  },
  {
   "cell_type": "code",
   "execution_count": 30,
   "id": "b7065191",
   "metadata": {},
   "outputs": [
    {
     "name": "stdout",
     "output_type": "stream",
     "text": [
      "[ 0  2  4  6  8 10 12 14 16]\n"
     ]
    }
   ],
   "source": [
    "a = array.ravel()\n",
    "print(a)"
   ]
  },
  {
   "cell_type": "code",
   "execution_count": 31,
   "id": "324055eb",
   "metadata": {},
   "outputs": [
    {
     "name": "stdout",
     "output_type": "stream",
     "text": [
      "[[ 0  2  4]\n",
      " [ 6  8 10]\n",
      " [12 14 16]]\n"
     ]
    }
   ],
   "source": [
    "array2 = a.reshape(3,3) \n",
    "print(array2)"
   ]
  },
  {
   "cell_type": "code",
   "execution_count": 32,
   "id": "83ed3932",
   "metadata": {},
   "outputs": [
    {
     "name": "stdout",
     "output_type": "stream",
     "text": [
      "[[ 0  6 12]\n",
      " [ 2  8 14]\n",
      " [ 4 10 16]]\n"
     ]
    }
   ],
   "source": [
    "array_transpose = array2.T \n",
    "print(array_transpose)"
   ]
  },
  {
   "cell_type": "code",
   "execution_count": 33,
   "id": "e5592d5b",
   "metadata": {},
   "outputs": [
    {
     "name": "stdout",
     "output_type": "stream",
     "text": [
      "[[1 2]\n",
      " [3 4]\n",
      " [5 6]]\n"
     ]
    }
   ],
   "source": [
    "array3 = np.array([[1,2],[3,4],[5,6]])\n",
    "print(array3)"
   ]
  },
  {
   "cell_type": "code",
   "execution_count": 34,
   "id": "2be4d202",
   "metadata": {},
   "outputs": [
    {
     "name": "stdout",
     "output_type": "stream",
     "text": [
      "[[1 2 3]\n",
      " [4 5 6]]\n"
     ]
    }
   ],
   "source": [
    "array3.resize((2,3)) \n",
    "print(array3)"
   ]
  },
  {
   "cell_type": "code",
   "execution_count": null,
   "id": "19547260",
   "metadata": {},
   "outputs": [],
   "source": []
  }
 ],
 "metadata": {
  "kernelspec": {
   "display_name": "Python 3 (ipykernel)",
   "language": "python",
   "name": "python3"
  },
  "language_info": {
   "codemirror_mode": {
    "name": "ipython",
    "version": 3
   },
   "file_extension": ".py",
   "mimetype": "text/x-python",
   "name": "python",
   "nbconvert_exporter": "python",
   "pygments_lexer": "ipython3",
   "version": "3.9.13"
  }
 },
 "nbformat": 4,
 "nbformat_minor": 5
}
